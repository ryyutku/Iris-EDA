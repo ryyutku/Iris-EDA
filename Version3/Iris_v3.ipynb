{
  "nbformat": 4,
  "nbformat_minor": 0,
  "metadata": {
    "colab": {
      "provenance": [],
      "authorship_tag": "ABX9TyPotMY4jeV4ve8lKvncyJRP",
      "include_colab_link": true
    },
    "kernelspec": {
      "name": "python3",
      "display_name": "Python 3"
    },
    "language_info": {
      "name": "python"
    }
  },
  "cells": [
    {
      "cell_type": "markdown",
      "metadata": {
        "id": "view-in-github",
        "colab_type": "text"
      },
      "source": [
        "<a href=\"https://colab.research.google.com/github/ryyutku/Iris-EDA/blob/main/Version3/Iris_v3.ipynb\" target=\"_parent\"><img src=\"https://colab.research.google.com/assets/colab-badge.svg\" alt=\"Open In Colab\"/></a>"
      ]
    },
    {
      "cell_type": "code",
      "execution_count": 259,
      "metadata": {
        "id": "o_pF2njPiAWZ"
      },
      "outputs": [],
      "source": [
        "from sklearn.datasets import load_iris # Loading the Iris dataset\n",
        "import numpy as np\n",
        "import pandas as pd\n",
        "import matplotlib.pyplot as plt\n",
        "from sklearn.model_selection import train_test_split, cross_val_score\n",
        "from collections import Counter\n",
        "import seaborn as sns\n",
        "from sklearn.ensemble import RandomForestClassifier\n",
        "from sklearn.preprocessing import StandardScaler\n",
        "from sklearn.metrics import classification_report, confusion_matrix, accuracy_score\n",
        "from sklearn.model_selection import learning_curve\n"
      ]
    },
    {
      "cell_type": "code",
      "source": [
        "iris = load_iris()\n",
        "df = pd.DataFrame(iris.data, columns=iris.feature_names) # Converting the dataset from iris into a pandas Dataframe\n",
        "df['target'] = iris.target # Getting the iris target column\n",
        "df_original = df.copy() # Making a copy of the dataset"
      ],
      "metadata": {
        "id": "thBwU5Wnocts"
      },
      "execution_count": 260,
      "outputs": []
    },
    {
      "cell_type": "code",
      "source": [
        "df.head() # printing the first few rows of the dataset"
      ],
      "metadata": {
        "colab": {
          "base_uri": "https://localhost:8080/",
          "height": 206
        },
        "id": "gLzAA5PNoxnr",
        "outputId": "c1cd3d84-4387-4f8e-cdfa-8ed52ac8591c"
      },
      "execution_count": 261,
      "outputs": [
        {
          "output_type": "execute_result",
          "data": {
            "text/plain": [
              "   sepal length (cm)  sepal width (cm)  petal length (cm)  petal width (cm)  \\\n",
              "0                5.1               3.5                1.4               0.2   \n",
              "1                4.9               3.0                1.4               0.2   \n",
              "2                4.7               3.2                1.3               0.2   \n",
              "3                4.6               3.1                1.5               0.2   \n",
              "4                5.0               3.6                1.4               0.2   \n",
              "\n",
              "   target  \n",
              "0       0  \n",
              "1       0  \n",
              "2       0  \n",
              "3       0  \n",
              "4       0  "
            ],
            "text/html": [
              "\n",
              "  <div id=\"df-7db98ac6-b652-4843-bb8c-b36b3a3b5a35\" class=\"colab-df-container\">\n",
              "    <div>\n",
              "<style scoped>\n",
              "    .dataframe tbody tr th:only-of-type {\n",
              "        vertical-align: middle;\n",
              "    }\n",
              "\n",
              "    .dataframe tbody tr th {\n",
              "        vertical-align: top;\n",
              "    }\n",
              "\n",
              "    .dataframe thead th {\n",
              "        text-align: right;\n",
              "    }\n",
              "</style>\n",
              "<table border=\"1\" class=\"dataframe\">\n",
              "  <thead>\n",
              "    <tr style=\"text-align: right;\">\n",
              "      <th></th>\n",
              "      <th>sepal length (cm)</th>\n",
              "      <th>sepal width (cm)</th>\n",
              "      <th>petal length (cm)</th>\n",
              "      <th>petal width (cm)</th>\n",
              "      <th>target</th>\n",
              "    </tr>\n",
              "  </thead>\n",
              "  <tbody>\n",
              "    <tr>\n",
              "      <th>0</th>\n",
              "      <td>5.1</td>\n",
              "      <td>3.5</td>\n",
              "      <td>1.4</td>\n",
              "      <td>0.2</td>\n",
              "      <td>0</td>\n",
              "    </tr>\n",
              "    <tr>\n",
              "      <th>1</th>\n",
              "      <td>4.9</td>\n",
              "      <td>3.0</td>\n",
              "      <td>1.4</td>\n",
              "      <td>0.2</td>\n",
              "      <td>0</td>\n",
              "    </tr>\n",
              "    <tr>\n",
              "      <th>2</th>\n",
              "      <td>4.7</td>\n",
              "      <td>3.2</td>\n",
              "      <td>1.3</td>\n",
              "      <td>0.2</td>\n",
              "      <td>0</td>\n",
              "    </tr>\n",
              "    <tr>\n",
              "      <th>3</th>\n",
              "      <td>4.6</td>\n",
              "      <td>3.1</td>\n",
              "      <td>1.5</td>\n",
              "      <td>0.2</td>\n",
              "      <td>0</td>\n",
              "    </tr>\n",
              "    <tr>\n",
              "      <th>4</th>\n",
              "      <td>5.0</td>\n",
              "      <td>3.6</td>\n",
              "      <td>1.4</td>\n",
              "      <td>0.2</td>\n",
              "      <td>0</td>\n",
              "    </tr>\n",
              "  </tbody>\n",
              "</table>\n",
              "</div>\n",
              "    <div class=\"colab-df-buttons\">\n",
              "\n",
              "  <div class=\"colab-df-container\">\n",
              "    <button class=\"colab-df-convert\" onclick=\"convertToInteractive('df-7db98ac6-b652-4843-bb8c-b36b3a3b5a35')\"\n",
              "            title=\"Convert this dataframe to an interactive table.\"\n",
              "            style=\"display:none;\">\n",
              "\n",
              "  <svg xmlns=\"http://www.w3.org/2000/svg\" height=\"24px\" viewBox=\"0 -960 960 960\">\n",
              "    <path d=\"M120-120v-720h720v720H120Zm60-500h600v-160H180v160Zm220 220h160v-160H400v160Zm0 220h160v-160H400v160ZM180-400h160v-160H180v160Zm440 0h160v-160H620v160ZM180-180h160v-160H180v160Zm440 0h160v-160H620v160Z\"/>\n",
              "  </svg>\n",
              "    </button>\n",
              "\n",
              "  <style>\n",
              "    .colab-df-container {\n",
              "      display:flex;\n",
              "      gap: 12px;\n",
              "    }\n",
              "\n",
              "    .colab-df-convert {\n",
              "      background-color: #E8F0FE;\n",
              "      border: none;\n",
              "      border-radius: 50%;\n",
              "      cursor: pointer;\n",
              "      display: none;\n",
              "      fill: #1967D2;\n",
              "      height: 32px;\n",
              "      padding: 0 0 0 0;\n",
              "      width: 32px;\n",
              "    }\n",
              "\n",
              "    .colab-df-convert:hover {\n",
              "      background-color: #E2EBFA;\n",
              "      box-shadow: 0px 1px 2px rgba(60, 64, 67, 0.3), 0px 1px 3px 1px rgba(60, 64, 67, 0.15);\n",
              "      fill: #174EA6;\n",
              "    }\n",
              "\n",
              "    .colab-df-buttons div {\n",
              "      margin-bottom: 4px;\n",
              "    }\n",
              "\n",
              "    [theme=dark] .colab-df-convert {\n",
              "      background-color: #3B4455;\n",
              "      fill: #D2E3FC;\n",
              "    }\n",
              "\n",
              "    [theme=dark] .colab-df-convert:hover {\n",
              "      background-color: #434B5C;\n",
              "      box-shadow: 0px 1px 3px 1px rgba(0, 0, 0, 0.15);\n",
              "      filter: drop-shadow(0px 1px 2px rgba(0, 0, 0, 0.3));\n",
              "      fill: #FFFFFF;\n",
              "    }\n",
              "  </style>\n",
              "\n",
              "    <script>\n",
              "      const buttonEl =\n",
              "        document.querySelector('#df-7db98ac6-b652-4843-bb8c-b36b3a3b5a35 button.colab-df-convert');\n",
              "      buttonEl.style.display =\n",
              "        google.colab.kernel.accessAllowed ? 'block' : 'none';\n",
              "\n",
              "      async function convertToInteractive(key) {\n",
              "        const element = document.querySelector('#df-7db98ac6-b652-4843-bb8c-b36b3a3b5a35');\n",
              "        const dataTable =\n",
              "          await google.colab.kernel.invokeFunction('convertToInteractive',\n",
              "                                                    [key], {});\n",
              "        if (!dataTable) return;\n",
              "\n",
              "        const docLinkHtml = 'Like what you see? Visit the ' +\n",
              "          '<a target=\"_blank\" href=https://colab.research.google.com/notebooks/data_table.ipynb>data table notebook</a>'\n",
              "          + ' to learn more about interactive tables.';\n",
              "        element.innerHTML = '';\n",
              "        dataTable['output_type'] = 'display_data';\n",
              "        await google.colab.output.renderOutput(dataTable, element);\n",
              "        const docLink = document.createElement('div');\n",
              "        docLink.innerHTML = docLinkHtml;\n",
              "        element.appendChild(docLink);\n",
              "      }\n",
              "    </script>\n",
              "  </div>\n",
              "\n",
              "\n",
              "<div id=\"df-654aa932-cc5d-4d60-9751-485d098620ab\">\n",
              "  <button class=\"colab-df-quickchart\" onclick=\"quickchart('df-654aa932-cc5d-4d60-9751-485d098620ab')\"\n",
              "            title=\"Suggest charts\"\n",
              "            style=\"display:none;\">\n",
              "\n",
              "<svg xmlns=\"http://www.w3.org/2000/svg\" height=\"24px\"viewBox=\"0 0 24 24\"\n",
              "     width=\"24px\">\n",
              "    <g>\n",
              "        <path d=\"M19 3H5c-1.1 0-2 .9-2 2v14c0 1.1.9 2 2 2h14c1.1 0 2-.9 2-2V5c0-1.1-.9-2-2-2zM9 17H7v-7h2v7zm4 0h-2V7h2v10zm4 0h-2v-4h2v4z\"/>\n",
              "    </g>\n",
              "</svg>\n",
              "  </button>\n",
              "\n",
              "<style>\n",
              "  .colab-df-quickchart {\n",
              "      --bg-color: #E8F0FE;\n",
              "      --fill-color: #1967D2;\n",
              "      --hover-bg-color: #E2EBFA;\n",
              "      --hover-fill-color: #174EA6;\n",
              "      --disabled-fill-color: #AAA;\n",
              "      --disabled-bg-color: #DDD;\n",
              "  }\n",
              "\n",
              "  [theme=dark] .colab-df-quickchart {\n",
              "      --bg-color: #3B4455;\n",
              "      --fill-color: #D2E3FC;\n",
              "      --hover-bg-color: #434B5C;\n",
              "      --hover-fill-color: #FFFFFF;\n",
              "      --disabled-bg-color: #3B4455;\n",
              "      --disabled-fill-color: #666;\n",
              "  }\n",
              "\n",
              "  .colab-df-quickchart {\n",
              "    background-color: var(--bg-color);\n",
              "    border: none;\n",
              "    border-radius: 50%;\n",
              "    cursor: pointer;\n",
              "    display: none;\n",
              "    fill: var(--fill-color);\n",
              "    height: 32px;\n",
              "    padding: 0;\n",
              "    width: 32px;\n",
              "  }\n",
              "\n",
              "  .colab-df-quickchart:hover {\n",
              "    background-color: var(--hover-bg-color);\n",
              "    box-shadow: 0 1px 2px rgba(60, 64, 67, 0.3), 0 1px 3px 1px rgba(60, 64, 67, 0.15);\n",
              "    fill: var(--button-hover-fill-color);\n",
              "  }\n",
              "\n",
              "  .colab-df-quickchart-complete:disabled,\n",
              "  .colab-df-quickchart-complete:disabled:hover {\n",
              "    background-color: var(--disabled-bg-color);\n",
              "    fill: var(--disabled-fill-color);\n",
              "    box-shadow: none;\n",
              "  }\n",
              "\n",
              "  .colab-df-spinner {\n",
              "    border: 2px solid var(--fill-color);\n",
              "    border-color: transparent;\n",
              "    border-bottom-color: var(--fill-color);\n",
              "    animation:\n",
              "      spin 1s steps(1) infinite;\n",
              "  }\n",
              "\n",
              "  @keyframes spin {\n",
              "    0% {\n",
              "      border-color: transparent;\n",
              "      border-bottom-color: var(--fill-color);\n",
              "      border-left-color: var(--fill-color);\n",
              "    }\n",
              "    20% {\n",
              "      border-color: transparent;\n",
              "      border-left-color: var(--fill-color);\n",
              "      border-top-color: var(--fill-color);\n",
              "    }\n",
              "    30% {\n",
              "      border-color: transparent;\n",
              "      border-left-color: var(--fill-color);\n",
              "      border-top-color: var(--fill-color);\n",
              "      border-right-color: var(--fill-color);\n",
              "    }\n",
              "    40% {\n",
              "      border-color: transparent;\n",
              "      border-right-color: var(--fill-color);\n",
              "      border-top-color: var(--fill-color);\n",
              "    }\n",
              "    60% {\n",
              "      border-color: transparent;\n",
              "      border-right-color: var(--fill-color);\n",
              "    }\n",
              "    80% {\n",
              "      border-color: transparent;\n",
              "      border-right-color: var(--fill-color);\n",
              "      border-bottom-color: var(--fill-color);\n",
              "    }\n",
              "    90% {\n",
              "      border-color: transparent;\n",
              "      border-bottom-color: var(--fill-color);\n",
              "    }\n",
              "  }\n",
              "</style>\n",
              "\n",
              "  <script>\n",
              "    async function quickchart(key) {\n",
              "      const quickchartButtonEl =\n",
              "        document.querySelector('#' + key + ' button');\n",
              "      quickchartButtonEl.disabled = true;  // To prevent multiple clicks.\n",
              "      quickchartButtonEl.classList.add('colab-df-spinner');\n",
              "      try {\n",
              "        const charts = await google.colab.kernel.invokeFunction(\n",
              "            'suggestCharts', [key], {});\n",
              "      } catch (error) {\n",
              "        console.error('Error during call to suggestCharts:', error);\n",
              "      }\n",
              "      quickchartButtonEl.classList.remove('colab-df-spinner');\n",
              "      quickchartButtonEl.classList.add('colab-df-quickchart-complete');\n",
              "    }\n",
              "    (() => {\n",
              "      let quickchartButtonEl =\n",
              "        document.querySelector('#df-654aa932-cc5d-4d60-9751-485d098620ab button');\n",
              "      quickchartButtonEl.style.display =\n",
              "        google.colab.kernel.accessAllowed ? 'block' : 'none';\n",
              "    })();\n",
              "  </script>\n",
              "</div>\n",
              "\n",
              "    </div>\n",
              "  </div>\n"
            ],
            "application/vnd.google.colaboratory.intrinsic+json": {
              "type": "dataframe",
              "variable_name": "df",
              "summary": "{\n  \"name\": \"df\",\n  \"rows\": 150,\n  \"fields\": [\n    {\n      \"column\": \"sepal length (cm)\",\n      \"properties\": {\n        \"dtype\": \"number\",\n        \"std\": 0.8280661279778629,\n        \"min\": 4.3,\n        \"max\": 7.9,\n        \"num_unique_values\": 35,\n        \"samples\": [\n          6.2,\n          4.5,\n          5.6\n        ],\n        \"semantic_type\": \"\",\n        \"description\": \"\"\n      }\n    },\n    {\n      \"column\": \"sepal width (cm)\",\n      \"properties\": {\n        \"dtype\": \"number\",\n        \"std\": 0.435866284936698,\n        \"min\": 2.0,\n        \"max\": 4.4,\n        \"num_unique_values\": 23,\n        \"samples\": [\n          2.3,\n          4.0,\n          3.5\n        ],\n        \"semantic_type\": \"\",\n        \"description\": \"\"\n      }\n    },\n    {\n      \"column\": \"petal length (cm)\",\n      \"properties\": {\n        \"dtype\": \"number\",\n        \"std\": 1.7652982332594667,\n        \"min\": 1.0,\n        \"max\": 6.9,\n        \"num_unique_values\": 43,\n        \"samples\": [\n          6.7,\n          3.8,\n          3.7\n        ],\n        \"semantic_type\": \"\",\n        \"description\": \"\"\n      }\n    },\n    {\n      \"column\": \"petal width (cm)\",\n      \"properties\": {\n        \"dtype\": \"number\",\n        \"std\": 0.7622376689603465,\n        \"min\": 0.1,\n        \"max\": 2.5,\n        \"num_unique_values\": 22,\n        \"samples\": [\n          0.2,\n          1.2,\n          1.3\n        ],\n        \"semantic_type\": \"\",\n        \"description\": \"\"\n      }\n    },\n    {\n      \"column\": \"target\",\n      \"properties\": {\n        \"dtype\": \"number\",\n        \"std\": 0,\n        \"min\": 0,\n        \"max\": 2,\n        \"num_unique_values\": 3,\n        \"samples\": [\n          0,\n          1,\n          2\n        ],\n        \"semantic_type\": \"\",\n        \"description\": \"\"\n      }\n    }\n  ]\n}"
            }
          },
          "metadata": {},
          "execution_count": 261
        }
      ]
    },
    {
      "cell_type": "code",
      "source": [
        "df.dtypes #  Checking the dtypes of the dataset"
      ],
      "metadata": {
        "colab": {
          "base_uri": "https://localhost:8080/",
          "height": 241
        },
        "id": "6q7jNMp9o5NJ",
        "outputId": "48185e7e-5cc1-4fdd-b58c-b64504b2bb0d"
      },
      "execution_count": 262,
      "outputs": [
        {
          "output_type": "execute_result",
          "data": {
            "text/plain": [
              "sepal length (cm)    float64\n",
              "sepal width (cm)     float64\n",
              "petal length (cm)    float64\n",
              "petal width (cm)     float64\n",
              "target                 int64\n",
              "dtype: object"
            ],
            "text/html": [
              "<div>\n",
              "<style scoped>\n",
              "    .dataframe tbody tr th:only-of-type {\n",
              "        vertical-align: middle;\n",
              "    }\n",
              "\n",
              "    .dataframe tbody tr th {\n",
              "        vertical-align: top;\n",
              "    }\n",
              "\n",
              "    .dataframe thead th {\n",
              "        text-align: right;\n",
              "    }\n",
              "</style>\n",
              "<table border=\"1\" class=\"dataframe\">\n",
              "  <thead>\n",
              "    <tr style=\"text-align: right;\">\n",
              "      <th></th>\n",
              "      <th>0</th>\n",
              "    </tr>\n",
              "  </thead>\n",
              "  <tbody>\n",
              "    <tr>\n",
              "      <th>sepal length (cm)</th>\n",
              "      <td>float64</td>\n",
              "    </tr>\n",
              "    <tr>\n",
              "      <th>sepal width (cm)</th>\n",
              "      <td>float64</td>\n",
              "    </tr>\n",
              "    <tr>\n",
              "      <th>petal length (cm)</th>\n",
              "      <td>float64</td>\n",
              "    </tr>\n",
              "    <tr>\n",
              "      <th>petal width (cm)</th>\n",
              "      <td>float64</td>\n",
              "    </tr>\n",
              "    <tr>\n",
              "      <th>target</th>\n",
              "      <td>int64</td>\n",
              "    </tr>\n",
              "  </tbody>\n",
              "</table>\n",
              "</div><br><label><b>dtype:</b> object</label>"
            ]
          },
          "metadata": {},
          "execution_count": 262
        }
      ]
    },
    {
      "cell_type": "code",
      "source": [
        "df.shape"
      ],
      "metadata": {
        "colab": {
          "base_uri": "https://localhost:8080/"
        },
        "id": "mtCQ-fLtpwjO",
        "outputId": "6d0538fb-9801-472f-8895-9942f0af515a"
      },
      "execution_count": 263,
      "outputs": [
        {
          "output_type": "execute_result",
          "data": {
            "text/plain": [
              "(150, 5)"
            ]
          },
          "metadata": {},
          "execution_count": 263
        }
      ]
    },
    {
      "cell_type": "code",
      "source": [
        "df.describe() # checking for description statistics"
      ],
      "metadata": {
        "colab": {
          "base_uri": "https://localhost:8080/",
          "height": 300
        },
        "id": "_kXmuLcSp-zF",
        "outputId": "6b8a886c-19db-4bdf-8c2d-7edd11f2885c"
      },
      "execution_count": 264,
      "outputs": [
        {
          "output_type": "execute_result",
          "data": {
            "text/plain": [
              "       sepal length (cm)  sepal width (cm)  petal length (cm)  \\\n",
              "count         150.000000        150.000000         150.000000   \n",
              "mean            5.843333          3.057333           3.758000   \n",
              "std             0.828066          0.435866           1.765298   \n",
              "min             4.300000          2.000000           1.000000   \n",
              "25%             5.100000          2.800000           1.600000   \n",
              "50%             5.800000          3.000000           4.350000   \n",
              "75%             6.400000          3.300000           5.100000   \n",
              "max             7.900000          4.400000           6.900000   \n",
              "\n",
              "       petal width (cm)      target  \n",
              "count        150.000000  150.000000  \n",
              "mean           1.199333    1.000000  \n",
              "std            0.762238    0.819232  \n",
              "min            0.100000    0.000000  \n",
              "25%            0.300000    0.000000  \n",
              "50%            1.300000    1.000000  \n",
              "75%            1.800000    2.000000  \n",
              "max            2.500000    2.000000  "
            ],
            "text/html": [
              "\n",
              "  <div id=\"df-0a731bae-5274-42e1-817d-3abc9a35f785\" class=\"colab-df-container\">\n",
              "    <div>\n",
              "<style scoped>\n",
              "    .dataframe tbody tr th:only-of-type {\n",
              "        vertical-align: middle;\n",
              "    }\n",
              "\n",
              "    .dataframe tbody tr th {\n",
              "        vertical-align: top;\n",
              "    }\n",
              "\n",
              "    .dataframe thead th {\n",
              "        text-align: right;\n",
              "    }\n",
              "</style>\n",
              "<table border=\"1\" class=\"dataframe\">\n",
              "  <thead>\n",
              "    <tr style=\"text-align: right;\">\n",
              "      <th></th>\n",
              "      <th>sepal length (cm)</th>\n",
              "      <th>sepal width (cm)</th>\n",
              "      <th>petal length (cm)</th>\n",
              "      <th>petal width (cm)</th>\n",
              "      <th>target</th>\n",
              "    </tr>\n",
              "  </thead>\n",
              "  <tbody>\n",
              "    <tr>\n",
              "      <th>count</th>\n",
              "      <td>150.000000</td>\n",
              "      <td>150.000000</td>\n",
              "      <td>150.000000</td>\n",
              "      <td>150.000000</td>\n",
              "      <td>150.000000</td>\n",
              "    </tr>\n",
              "    <tr>\n",
              "      <th>mean</th>\n",
              "      <td>5.843333</td>\n",
              "      <td>3.057333</td>\n",
              "      <td>3.758000</td>\n",
              "      <td>1.199333</td>\n",
              "      <td>1.000000</td>\n",
              "    </tr>\n",
              "    <tr>\n",
              "      <th>std</th>\n",
              "      <td>0.828066</td>\n",
              "      <td>0.435866</td>\n",
              "      <td>1.765298</td>\n",
              "      <td>0.762238</td>\n",
              "      <td>0.819232</td>\n",
              "    </tr>\n",
              "    <tr>\n",
              "      <th>min</th>\n",
              "      <td>4.300000</td>\n",
              "      <td>2.000000</td>\n",
              "      <td>1.000000</td>\n",
              "      <td>0.100000</td>\n",
              "      <td>0.000000</td>\n",
              "    </tr>\n",
              "    <tr>\n",
              "      <th>25%</th>\n",
              "      <td>5.100000</td>\n",
              "      <td>2.800000</td>\n",
              "      <td>1.600000</td>\n",
              "      <td>0.300000</td>\n",
              "      <td>0.000000</td>\n",
              "    </tr>\n",
              "    <tr>\n",
              "      <th>50%</th>\n",
              "      <td>5.800000</td>\n",
              "      <td>3.000000</td>\n",
              "      <td>4.350000</td>\n",
              "      <td>1.300000</td>\n",
              "      <td>1.000000</td>\n",
              "    </tr>\n",
              "    <tr>\n",
              "      <th>75%</th>\n",
              "      <td>6.400000</td>\n",
              "      <td>3.300000</td>\n",
              "      <td>5.100000</td>\n",
              "      <td>1.800000</td>\n",
              "      <td>2.000000</td>\n",
              "    </tr>\n",
              "    <tr>\n",
              "      <th>max</th>\n",
              "      <td>7.900000</td>\n",
              "      <td>4.400000</td>\n",
              "      <td>6.900000</td>\n",
              "      <td>2.500000</td>\n",
              "      <td>2.000000</td>\n",
              "    </tr>\n",
              "  </tbody>\n",
              "</table>\n",
              "</div>\n",
              "    <div class=\"colab-df-buttons\">\n",
              "\n",
              "  <div class=\"colab-df-container\">\n",
              "    <button class=\"colab-df-convert\" onclick=\"convertToInteractive('df-0a731bae-5274-42e1-817d-3abc9a35f785')\"\n",
              "            title=\"Convert this dataframe to an interactive table.\"\n",
              "            style=\"display:none;\">\n",
              "\n",
              "  <svg xmlns=\"http://www.w3.org/2000/svg\" height=\"24px\" viewBox=\"0 -960 960 960\">\n",
              "    <path d=\"M120-120v-720h720v720H120Zm60-500h600v-160H180v160Zm220 220h160v-160H400v160Zm0 220h160v-160H400v160ZM180-400h160v-160H180v160Zm440 0h160v-160H620v160ZM180-180h160v-160H180v160Zm440 0h160v-160H620v160Z\"/>\n",
              "  </svg>\n",
              "    </button>\n",
              "\n",
              "  <style>\n",
              "    .colab-df-container {\n",
              "      display:flex;\n",
              "      gap: 12px;\n",
              "    }\n",
              "\n",
              "    .colab-df-convert {\n",
              "      background-color: #E8F0FE;\n",
              "      border: none;\n",
              "      border-radius: 50%;\n",
              "      cursor: pointer;\n",
              "      display: none;\n",
              "      fill: #1967D2;\n",
              "      height: 32px;\n",
              "      padding: 0 0 0 0;\n",
              "      width: 32px;\n",
              "    }\n",
              "\n",
              "    .colab-df-convert:hover {\n",
              "      background-color: #E2EBFA;\n",
              "      box-shadow: 0px 1px 2px rgba(60, 64, 67, 0.3), 0px 1px 3px 1px rgba(60, 64, 67, 0.15);\n",
              "      fill: #174EA6;\n",
              "    }\n",
              "\n",
              "    .colab-df-buttons div {\n",
              "      margin-bottom: 4px;\n",
              "    }\n",
              "\n",
              "    [theme=dark] .colab-df-convert {\n",
              "      background-color: #3B4455;\n",
              "      fill: #D2E3FC;\n",
              "    }\n",
              "\n",
              "    [theme=dark] .colab-df-convert:hover {\n",
              "      background-color: #434B5C;\n",
              "      box-shadow: 0px 1px 3px 1px rgba(0, 0, 0, 0.15);\n",
              "      filter: drop-shadow(0px 1px 2px rgba(0, 0, 0, 0.3));\n",
              "      fill: #FFFFFF;\n",
              "    }\n",
              "  </style>\n",
              "\n",
              "    <script>\n",
              "      const buttonEl =\n",
              "        document.querySelector('#df-0a731bae-5274-42e1-817d-3abc9a35f785 button.colab-df-convert');\n",
              "      buttonEl.style.display =\n",
              "        google.colab.kernel.accessAllowed ? 'block' : 'none';\n",
              "\n",
              "      async function convertToInteractive(key) {\n",
              "        const element = document.querySelector('#df-0a731bae-5274-42e1-817d-3abc9a35f785');\n",
              "        const dataTable =\n",
              "          await google.colab.kernel.invokeFunction('convertToInteractive',\n",
              "                                                    [key], {});\n",
              "        if (!dataTable) return;\n",
              "\n",
              "        const docLinkHtml = 'Like what you see? Visit the ' +\n",
              "          '<a target=\"_blank\" href=https://colab.research.google.com/notebooks/data_table.ipynb>data table notebook</a>'\n",
              "          + ' to learn more about interactive tables.';\n",
              "        element.innerHTML = '';\n",
              "        dataTable['output_type'] = 'display_data';\n",
              "        await google.colab.output.renderOutput(dataTable, element);\n",
              "        const docLink = document.createElement('div');\n",
              "        docLink.innerHTML = docLinkHtml;\n",
              "        element.appendChild(docLink);\n",
              "      }\n",
              "    </script>\n",
              "  </div>\n",
              "\n",
              "\n",
              "<div id=\"df-253be1ca-879e-4749-9245-2774c7538d7b\">\n",
              "  <button class=\"colab-df-quickchart\" onclick=\"quickchart('df-253be1ca-879e-4749-9245-2774c7538d7b')\"\n",
              "            title=\"Suggest charts\"\n",
              "            style=\"display:none;\">\n",
              "\n",
              "<svg xmlns=\"http://www.w3.org/2000/svg\" height=\"24px\"viewBox=\"0 0 24 24\"\n",
              "     width=\"24px\">\n",
              "    <g>\n",
              "        <path d=\"M19 3H5c-1.1 0-2 .9-2 2v14c0 1.1.9 2 2 2h14c1.1 0 2-.9 2-2V5c0-1.1-.9-2-2-2zM9 17H7v-7h2v7zm4 0h-2V7h2v10zm4 0h-2v-4h2v4z\"/>\n",
              "    </g>\n",
              "</svg>\n",
              "  </button>\n",
              "\n",
              "<style>\n",
              "  .colab-df-quickchart {\n",
              "      --bg-color: #E8F0FE;\n",
              "      --fill-color: #1967D2;\n",
              "      --hover-bg-color: #E2EBFA;\n",
              "      --hover-fill-color: #174EA6;\n",
              "      --disabled-fill-color: #AAA;\n",
              "      --disabled-bg-color: #DDD;\n",
              "  }\n",
              "\n",
              "  [theme=dark] .colab-df-quickchart {\n",
              "      --bg-color: #3B4455;\n",
              "      --fill-color: #D2E3FC;\n",
              "      --hover-bg-color: #434B5C;\n",
              "      --hover-fill-color: #FFFFFF;\n",
              "      --disabled-bg-color: #3B4455;\n",
              "      --disabled-fill-color: #666;\n",
              "  }\n",
              "\n",
              "  .colab-df-quickchart {\n",
              "    background-color: var(--bg-color);\n",
              "    border: none;\n",
              "    border-radius: 50%;\n",
              "    cursor: pointer;\n",
              "    display: none;\n",
              "    fill: var(--fill-color);\n",
              "    height: 32px;\n",
              "    padding: 0;\n",
              "    width: 32px;\n",
              "  }\n",
              "\n",
              "  .colab-df-quickchart:hover {\n",
              "    background-color: var(--hover-bg-color);\n",
              "    box-shadow: 0 1px 2px rgba(60, 64, 67, 0.3), 0 1px 3px 1px rgba(60, 64, 67, 0.15);\n",
              "    fill: var(--button-hover-fill-color);\n",
              "  }\n",
              "\n",
              "  .colab-df-quickchart-complete:disabled,\n",
              "  .colab-df-quickchart-complete:disabled:hover {\n",
              "    background-color: var(--disabled-bg-color);\n",
              "    fill: var(--disabled-fill-color);\n",
              "    box-shadow: none;\n",
              "  }\n",
              "\n",
              "  .colab-df-spinner {\n",
              "    border: 2px solid var(--fill-color);\n",
              "    border-color: transparent;\n",
              "    border-bottom-color: var(--fill-color);\n",
              "    animation:\n",
              "      spin 1s steps(1) infinite;\n",
              "  }\n",
              "\n",
              "  @keyframes spin {\n",
              "    0% {\n",
              "      border-color: transparent;\n",
              "      border-bottom-color: var(--fill-color);\n",
              "      border-left-color: var(--fill-color);\n",
              "    }\n",
              "    20% {\n",
              "      border-color: transparent;\n",
              "      border-left-color: var(--fill-color);\n",
              "      border-top-color: var(--fill-color);\n",
              "    }\n",
              "    30% {\n",
              "      border-color: transparent;\n",
              "      border-left-color: var(--fill-color);\n",
              "      border-top-color: var(--fill-color);\n",
              "      border-right-color: var(--fill-color);\n",
              "    }\n",
              "    40% {\n",
              "      border-color: transparent;\n",
              "      border-right-color: var(--fill-color);\n",
              "      border-top-color: var(--fill-color);\n",
              "    }\n",
              "    60% {\n",
              "      border-color: transparent;\n",
              "      border-right-color: var(--fill-color);\n",
              "    }\n",
              "    80% {\n",
              "      border-color: transparent;\n",
              "      border-right-color: var(--fill-color);\n",
              "      border-bottom-color: var(--fill-color);\n",
              "    }\n",
              "    90% {\n",
              "      border-color: transparent;\n",
              "      border-bottom-color: var(--fill-color);\n",
              "    }\n",
              "  }\n",
              "</style>\n",
              "\n",
              "  <script>\n",
              "    async function quickchart(key) {\n",
              "      const quickchartButtonEl =\n",
              "        document.querySelector('#' + key + ' button');\n",
              "      quickchartButtonEl.disabled = true;  // To prevent multiple clicks.\n",
              "      quickchartButtonEl.classList.add('colab-df-spinner');\n",
              "      try {\n",
              "        const charts = await google.colab.kernel.invokeFunction(\n",
              "            'suggestCharts', [key], {});\n",
              "      } catch (error) {\n",
              "        console.error('Error during call to suggestCharts:', error);\n",
              "      }\n",
              "      quickchartButtonEl.classList.remove('colab-df-spinner');\n",
              "      quickchartButtonEl.classList.add('colab-df-quickchart-complete');\n",
              "    }\n",
              "    (() => {\n",
              "      let quickchartButtonEl =\n",
              "        document.querySelector('#df-253be1ca-879e-4749-9245-2774c7538d7b button');\n",
              "      quickchartButtonEl.style.display =\n",
              "        google.colab.kernel.accessAllowed ? 'block' : 'none';\n",
              "    })();\n",
              "  </script>\n",
              "</div>\n",
              "\n",
              "    </div>\n",
              "  </div>\n"
            ],
            "application/vnd.google.colaboratory.intrinsic+json": {
              "type": "dataframe",
              "summary": "{\n  \"name\": \"df\",\n  \"rows\": 8,\n  \"fields\": [\n    {\n      \"column\": \"sepal length (cm)\",\n      \"properties\": {\n        \"dtype\": \"number\",\n        \"std\": 51.24711349471842,\n        \"min\": 0.8280661279778629,\n        \"max\": 150.0,\n        \"num_unique_values\": 8,\n        \"samples\": [\n          5.843333333333334,\n          5.8,\n          150.0\n        ],\n        \"semantic_type\": \"\",\n        \"description\": \"\"\n      }\n    },\n    {\n      \"column\": \"sepal width (cm)\",\n      \"properties\": {\n        \"dtype\": \"number\",\n        \"std\": 52.08617800869866,\n        \"min\": 0.435866284936698,\n        \"max\": 150.0,\n        \"num_unique_values\": 8,\n        \"samples\": [\n          3.0573333333333337,\n          3.0,\n          150.0\n        ],\n        \"semantic_type\": \"\",\n        \"description\": \"\"\n      }\n    },\n    {\n      \"column\": \"petal length (cm)\",\n      \"properties\": {\n        \"dtype\": \"number\",\n        \"std\": 51.83521261418364,\n        \"min\": 1.0,\n        \"max\": 150.0,\n        \"num_unique_values\": 8,\n        \"samples\": [\n          3.7580000000000005,\n          4.35,\n          150.0\n        ],\n        \"semantic_type\": \"\",\n        \"description\": \"\"\n      }\n    },\n    {\n      \"column\": \"petal width (cm)\",\n      \"properties\": {\n        \"dtype\": \"number\",\n        \"std\": 52.636648242617504,\n        \"min\": 0.1,\n        \"max\": 150.0,\n        \"num_unique_values\": 8,\n        \"samples\": [\n          1.1993333333333336,\n          1.3,\n          150.0\n        ],\n        \"semantic_type\": \"\",\n        \"description\": \"\"\n      }\n    },\n    {\n      \"column\": \"target\",\n      \"properties\": {\n        \"dtype\": \"number\",\n        \"std\": 52.69404575122032,\n        \"min\": 0.0,\n        \"max\": 150.0,\n        \"num_unique_values\": 5,\n        \"samples\": [\n          1.0,\n          2.0,\n          0.8192319205190405\n        ],\n        \"semantic_type\": \"\",\n        \"description\": \"\"\n      }\n    }\n  ]\n}"
            }
          },
          "metadata": {},
          "execution_count": 264
        }
      ]
    },
    {
      "cell_type": "code",
      "source": [
        "df.isnull().sum() # Checking for missing values"
      ],
      "metadata": {
        "colab": {
          "base_uri": "https://localhost:8080/",
          "height": 241
        },
        "id": "lBMjMCLkqAqd",
        "outputId": "0c7711a2-8157-474d-cc7e-9829899fd133"
      },
      "execution_count": 265,
      "outputs": [
        {
          "output_type": "execute_result",
          "data": {
            "text/plain": [
              "sepal length (cm)    0\n",
              "sepal width (cm)     0\n",
              "petal length (cm)    0\n",
              "petal width (cm)     0\n",
              "target               0\n",
              "dtype: int64"
            ],
            "text/html": [
              "<div>\n",
              "<style scoped>\n",
              "    .dataframe tbody tr th:only-of-type {\n",
              "        vertical-align: middle;\n",
              "    }\n",
              "\n",
              "    .dataframe tbody tr th {\n",
              "        vertical-align: top;\n",
              "    }\n",
              "\n",
              "    .dataframe thead th {\n",
              "        text-align: right;\n",
              "    }\n",
              "</style>\n",
              "<table border=\"1\" class=\"dataframe\">\n",
              "  <thead>\n",
              "    <tr style=\"text-align: right;\">\n",
              "      <th></th>\n",
              "      <th>0</th>\n",
              "    </tr>\n",
              "  </thead>\n",
              "  <tbody>\n",
              "    <tr>\n",
              "      <th>sepal length (cm)</th>\n",
              "      <td>0</td>\n",
              "    </tr>\n",
              "    <tr>\n",
              "      <th>sepal width (cm)</th>\n",
              "      <td>0</td>\n",
              "    </tr>\n",
              "    <tr>\n",
              "      <th>petal length (cm)</th>\n",
              "      <td>0</td>\n",
              "    </tr>\n",
              "    <tr>\n",
              "      <th>petal width (cm)</th>\n",
              "      <td>0</td>\n",
              "    </tr>\n",
              "    <tr>\n",
              "      <th>target</th>\n",
              "      <td>0</td>\n",
              "    </tr>\n",
              "  </tbody>\n",
              "</table>\n",
              "</div><br><label><b>dtype:</b> int64</label>"
            ]
          },
          "metadata": {},
          "execution_count": 265
        }
      ]
    },
    {
      "cell_type": "markdown",
      "source": [
        "## **Exploratory Data analysis (EDA)**"
      ],
      "metadata": {
        "id": "GtZsZKLoqcF-"
      }
    },
    {
      "cell_type": "markdown",
      "source": [
        "####**Checking for Class imbalance**"
      ],
      "metadata": {
        "id": "m2AuOlH8r-fV"
      }
    },
    {
      "cell_type": "code",
      "source": [
        "# Checking for imbalance in the dataset\n",
        "class_counts = df['target'].value_counts()\n",
        "print(class_counts)"
      ],
      "metadata": {
        "colab": {
          "base_uri": "https://localhost:8080/"
        },
        "id": "3Mk8M4LqqNZo",
        "outputId": "c72350c5-af8c-4ab1-a96a-ccbdc19bed7f"
      },
      "execution_count": 266,
      "outputs": [
        {
          "output_type": "stream",
          "name": "stdout",
          "text": [
            "target\n",
            "0    50\n",
            "1    50\n",
            "2    50\n",
            "Name: count, dtype: int64\n"
          ]
        }
      ]
    },
    {
      "cell_type": "code",
      "source": [
        "# Plotting imbalance using countplot\n",
        "sns.countplot(x=df['target'])\n",
        "plt.title(\"Class Distribution\")\n",
        "plt.show()"
      ],
      "metadata": {
        "colab": {
          "base_uri": "https://localhost:8080/",
          "height": 472
        },
        "id": "j7E2Uwolqoa0",
        "outputId": "12a22366-7368-459a-e681-b1441a50fd76"
      },
      "execution_count": 267,
      "outputs": [
        {
          "output_type": "display_data",
          "data": {
            "text/plain": [
              "<Figure size 640x480 with 1 Axes>"
            ],
            "image/png": "[encoded data removed]"
          },
          "metadata": {}
        }
      ]
    },
    {
      "cell_type": "markdown",
      "source": [
        "The dataset is well balanced"
      ],
      "metadata": {
        "id": "sV3cHSY1ryHd"
      }
    },
    {
      "cell_type": "markdown",
      "source": [
        "##**Test Running a model**"
      ],
      "metadata": {
        "id": "OJcMiK6HsCx1"
      }
    },
    {
      "cell_type": "code",
      "source": [
        "# Split data into training and testing sets\n",
        "X = df.drop(columns=['target'])\n",
        "y = df['target']\n",
        "X_train, X_test, y_train, y_test = train_test_split(X, y, test_size=0.2, random_state=42, stratify=y)\n",
        "\n",
        "# Initialize and train Random Forest model\n",
        "rf_model = RandomForestClassifier(\n",
        "    n_estimators=100,\n",
        "    max_depth=8,            # Reduce tree depth\n",
        "    min_samples_split=5,    # Require more samples to split a node\n",
        "    min_samples_leaf=3,     # Require more samples per leaf\n",
        "    max_features='sqrt',    # Use fewer features per tree\n",
        "    random_state=42\n",
        ")\n",
        "rf_model.fit(X_train, y_train)\n",
        "\n",
        "# Predict on test data\n",
        "y_pred = rf_model.predict(X_test)\n",
        "\n",
        "# Evaluate the model\n",
        "accuracy = accuracy_score(y_test, y_pred)\n",
        "print(f\"Accuracy: {accuracy:.4f}\\n\")\n",
        "print(\"Classification Report:\\n\", classification_report(y_test, y_pred))\n",
        "\n",
        "# Confusion matrix\n",
        "conf_matrix = confusion_matrix(y_test, y_pred)\n",
        "plt.figure(figsize=(5, 4))\n",
        "sns.heatmap(conf_matrix, annot=True, cmap='Blues', fmt='d', xticklabels=iris.target_names, yticklabels=iris.target_names)\n",
        "plt.xlabel('Predicted')\n",
        "plt.ylabel('Actual')\n",
        "plt.title('Confusion Matrix')\n",
        "plt.show()\n",
        "\n",
        "### **Cross-validation to check for overfitting**\n",
        "cv_scores = cross_val_score(rf_model, X_train, y_train, cv=5)\n",
        "print(f\"Cross-Validation Accuracy (Random Forest): {cv_scores.mean():.4f} ± {cv_scores.std():.4f}\")"
      ],
      "metadata": {
        "colab": {
          "base_uri": "https://localhost:8080/",
          "height": 664
        },
        "id": "ipPdS9EMrWRx",
        "outputId": "ff932e9d-b51c-48fd-9f1c-27ca22d38576"
      },
      "execution_count": 268,
      "outputs": [
        {
          "output_type": "stream",
          "name": "stdout",
          "text": [
            "Accuracy: 0.9667\n",
            "\n",
            "Classification Report:\n",
            "               precision    recall  f1-score   support\n",
            "\n",
            "           0       1.00      1.00      1.00        10\n",
            "           1       1.00      0.90      0.95        10\n",
            "           2       0.91      1.00      0.95        10\n",
            "\n",
            "    accuracy                           0.97        30\n",
            "   macro avg       0.97      0.97      0.97        30\n",
            "weighted avg       0.97      0.97      0.97        30\n",
            "\n"
          ]
        },
        {
          "output_type": "display_data",
          "data": {
            "text/plain": [
              "<Figure size 500x400 with 2 Axes>"
            ],
            "image/png": "[encoded data removed]"
          },
          "metadata": {}
        },
        {
          "output_type": "stream",
          "name": "stdout",
          "text": [
            "Cross-Validation Accuracy (Random Forest): 0.9417 ± 0.0204\n"
          ]
        }
      ]
    },
    {
      "cell_type": "code",
      "source": [
        "# Learning Curves to check for overfitting\n",
        "train_sizes, train_scores, test_scores = learning_curve(rf_model, X_train, y_train, cv=5, scoring='accuracy', n_jobs=-1, train_sizes=np.linspace(0.1, 1.0, 10))\n",
        "\n",
        "# Plot learning curves\n",
        "plt.figure(figsize=(10, 6))\n",
        "plt.plot(train_sizes, np.mean(train_scores, axis=1), label=\"Training score\", color=\"blue\", linestyle='--')\n",
        "plt.plot(train_sizes, np.mean(test_scores, axis=1), label=\"Cross-validation score\", color=\"green\", linestyle='-')\n",
        "plt.title(\"Learning Curves (Random Forest)\")\n",
        "plt.xlabel(\"Training Set Size\")\n",
        "plt.ylabel(\"Accuracy\")\n",
        "plt.legend(loc=\"best\")\n",
        "plt.grid(True)\n",
        "plt.show()\n"
      ],
      "metadata": {
        "colab": {
          "base_uri": "https://localhost:8080/",
          "height": 564
        },
        "id": "c0KcPW0_wO6d",
        "outputId": "09feb47a-a5b1-4151-fbd6-bd9ad656dab0"
      },
      "execution_count": 269,
      "outputs": [
        {
          "output_type": "display_data",
          "data": {
            "text/plain": [
              "<Figure size 1000x600 with 1 Axes>"
            ],
            "image/png": "[encoded data removed]"
          },
          "metadata": {}
        }
      ]
    },
    {
      "cell_type": "code",
      "source": [
        "# Compute learning curve scores\n",
        "train_sizes, train_scores, test_scores = learning_curve(rf_model, X_train, y_train, cv=5, scoring='accuracy', n_jobs=-1, train_sizes=np.linspace(0.1, 1.0, 10))\n",
        "\n",
        "# Compute mean training and validation scores\n",
        "mean_train_scores = np.mean(train_scores, axis=1)\n",
        "mean_test_scores = np.mean(test_scores, axis=1)\n",
        "\n",
        "# Compute generalization gap\n",
        "generalization_gap = mean_train_scores - mean_test_scores\n",
        "\n",
        "# Print results\n",
        "for size, train, test, gap in zip(train_sizes, mean_train_scores, mean_test_scores, generalization_gap):\n",
        "    print(f\"Training Size: {size}, Train Score: {train:.4f}, Test Score: {test:.4f}, Generalization Gap: {gap:.4f}\")"
      ],
      "metadata": {
        "colab": {
          "base_uri": "https://localhost:8080/"
        },
        "id": "BIEdqqswbfao",
        "outputId": "7ef220bd-c73a-4ce8-8d47-9495b0f71f81"
      },
      "execution_count": 270,
      "outputs": [
        {
          "output_type": "stream",
          "name": "stdout",
          "text": [
            "Training Size: 9, Train Score: 0.7778, Test Score: 0.5500, Generalization Gap: 0.2278\n",
            "Training Size: 19, Train Score: 1.0000, Test Score: 0.9583, Generalization Gap: 0.0417\n",
            "Training Size: 28, Train Score: 0.9714, Test Score: 0.9750, Generalization Gap: -0.0036\n",
            "Training Size: 38, Train Score: 0.9789, Test Score: 0.9667, Generalization Gap: 0.0123\n",
            "Training Size: 48, Train Score: 0.9833, Test Score: 0.9500, Generalization Gap: 0.0333\n",
            "Training Size: 57, Train Score: 0.9789, Test Score: 0.9583, Generalization Gap: 0.0206\n",
            "Training Size: 67, Train Score: 0.9731, Test Score: 0.9583, Generalization Gap: 0.0148\n",
            "Training Size: 76, Train Score: 0.9763, Test Score: 0.9500, Generalization Gap: 0.0263\n",
            "Training Size: 86, Train Score: 0.9791, Test Score: 0.9417, Generalization Gap: 0.0374\n",
            "Training Size: 96, Train Score: 0.9812, Test Score: 0.9417, Generalization Gap: 0.0396\n"
          ]
        }
      ]
    },
    {
      "cell_type": "markdown",
      "source": [
        "##**EDA using binning for the petal_length column**"
      ],
      "metadata": {
        "id": "TFsBpQzR419Q"
      }
    },
    {
      "cell_type": "code",
      "source": [
        "df['petal_length_qcut'] = pd.qcut(df['petal length (cm)'], q=9)"
      ],
      "metadata": {
        "id": "GHOTpszstp9L"
      },
      "execution_count": 271,
      "outputs": []
    },
    {
      "cell_type": "code",
      "source": [
        "df.groupby('petal_length_qcut')['target'].mean()"
      ],
      "metadata": {
        "colab": {
          "base_uri": "https://localhost:8080/",
          "height": 454
        },
        "id": "HyC_pjLy5ILP",
        "outputId": "88efb3f0-a53b-4c8a-ab36-5559c35cb662"
      },
      "execution_count": 272,
      "outputs": [
        {
          "output_type": "stream",
          "name": "stderr",
          "text": [
            "<ipython-input-272-4ce166c60ccf>:1: FutureWarning: The default of observed=False is deprecated and will be changed to True in a future version of pandas. Pass observed=False to retain current behavior or observed=True to adopt the future default and silence this warning.\n",
            "  df.groupby('petal_length_qcut')['target'].mean()\n"
          ]
        },
        {
          "output_type": "execute_result",
          "data": {
            "text/plain": [
              "petal_length_qcut\n",
              "(0.999, 1.4]    0.000000\n",
              "(1.4, 1.5]      0.000000\n",
              "(1.5, 2.633]    0.000000\n",
              "(2.633, 4.1]    1.000000\n",
              "(4.1, 4.5]      1.055556\n",
              "(4.5, 4.9]      1.294118\n",
              "(4.9, 5.189]    1.833333\n",
              "(5.189, 5.7]    2.000000\n",
              "(5.7, 6.9]      2.000000\n",
              "Name: target, dtype: float64"
            ],
            "text/html": [
              "<div>\n",
              "<style scoped>\n",
              "    .dataframe tbody tr th:only-of-type {\n",
              "        vertical-align: middle;\n",
              "    }\n",
              "\n",
              "    .dataframe tbody tr th {\n",
              "        vertical-align: top;\n",
              "    }\n",
              "\n",
              "    .dataframe thead th {\n",
              "        text-align: right;\n",
              "    }\n",
              "</style>\n",
              "<table border=\"1\" class=\"dataframe\">\n",
              "  <thead>\n",
              "    <tr style=\"text-align: right;\">\n",
              "      <th></th>\n",
              "      <th>target</th>\n",
              "    </tr>\n",
              "    <tr>\n",
              "      <th>petal_length_qcut</th>\n",
              "      <th></th>\n",
              "    </tr>\n",
              "  </thead>\n",
              "  <tbody>\n",
              "    <tr>\n",
              "      <th>(0.999, 1.4]</th>\n",
              "      <td>0.000000</td>\n",
              "    </tr>\n",
              "    <tr>\n",
              "      <th>(1.4, 1.5]</th>\n",
              "      <td>0.000000</td>\n",
              "    </tr>\n",
              "    <tr>\n",
              "      <th>(1.5, 2.633]</th>\n",
              "      <td>0.000000</td>\n",
              "    </tr>\n",
              "    <tr>\n",
              "      <th>(2.633, 4.1]</th>\n",
              "      <td>1.000000</td>\n",
              "    </tr>\n",
              "    <tr>\n",
              "      <th>(4.1, 4.5]</th>\n",
              "      <td>1.055556</td>\n",
              "    </tr>\n",
              "    <tr>\n",
              "      <th>(4.5, 4.9]</th>\n",
              "      <td>1.294118</td>\n",
              "    </tr>\n",
              "    <tr>\n",
              "      <th>(4.9, 5.189]</th>\n",
              "      <td>1.833333</td>\n",
              "    </tr>\n",
              "    <tr>\n",
              "      <th>(5.189, 5.7]</th>\n",
              "      <td>2.000000</td>\n",
              "    </tr>\n",
              "    <tr>\n",
              "      <th>(5.7, 6.9]</th>\n",
              "      <td>2.000000</td>\n",
              "    </tr>\n",
              "  </tbody>\n",
              "</table>\n",
              "</div><br><label><b>dtype:</b> float64</label>"
            ]
          },
          "metadata": {},
          "execution_count": 272
        }
      ]
    },
    {
      "cell_type": "code",
      "source": [
        "df.groupby('petal_length_qcut')['target'].value_counts()"
      ],
      "metadata": {
        "colab": {
          "base_uri": "https://localhost:8080/",
          "height": 1000
        },
        "id": "VoBbS3U65OQ0",
        "outputId": "6f24e578-58c7-4863-f37d-c674f06a11fa",
        "collapsed": true
      },
      "execution_count": 273,
      "outputs": [
        {
          "output_type": "stream",
          "name": "stderr",
          "text": [
            "<ipython-input-273-70bab6250aa4>:1: FutureWarning: The default of observed=False is deprecated and will be changed to True in a future version of pandas. Pass observed=False to retain current behavior or observed=True to adopt the future default and silence this warning.\n",
            "  df.groupby('petal_length_qcut')['target'].value_counts()\n"
          ]
        },
        {
          "output_type": "execute_result",
          "data": {
            "text/plain": [
              "petal_length_qcut  target\n",
              "(0.999, 1.4]       0         24\n",
              "                   1          0\n",
              "                   2          0\n",
              "(1.4, 1.5]         0         13\n",
              "                   1          0\n",
              "                   2          0\n",
              "(1.5, 2.633]       0         13\n",
              "                   1          0\n",
              "                   2          0\n",
              "(2.633, 4.1]       1         19\n",
              "                   0          0\n",
              "                   2          0\n",
              "(4.1, 4.5]         1         17\n",
              "                   2          1\n",
              "                   0          0\n",
              "(4.5, 4.9]         1         12\n",
              "                   2          5\n",
              "                   0          0\n",
              "(4.9, 5.189]       2         10\n",
              "                   1          2\n",
              "                   0          0\n",
              "(5.189, 5.7]       2         18\n",
              "                   0          0\n",
              "                   1          0\n",
              "(5.7, 6.9]         2         16\n",
              "                   0          0\n",
              "                   1          0\n",
              "Name: count, dtype: int64"
            ],
            "text/html": [
              "<div>\n",
              "<style scoped>\n",
              "    .dataframe tbody tr th:only-of-type {\n",
              "        vertical-align: middle;\n",
              "    }\n",
              "\n",
              "    .dataframe tbody tr th {\n",
              "        vertical-align: top;\n",
              "    }\n",
              "\n",
              "    .dataframe thead th {\n",
              "        text-align: right;\n",
              "    }\n",
              "</style>\n",
              "<table border=\"1\" class=\"dataframe\">\n",
              "  <thead>\n",
              "    <tr style=\"text-align: right;\">\n",
              "      <th></th>\n",
              "      <th></th>\n",
              "      <th>count</th>\n",
              "    </tr>\n",
              "    <tr>\n",
              "      <th>petal_length_qcut</th>\n",
              "      <th>target</th>\n",
              "      <th></th>\n",
              "    </tr>\n",
              "  </thead>\n",
              "  <tbody>\n",
              "    <tr>\n",
              "      <th rowspan=\"3\" valign=\"top\">(0.999, 1.4]</th>\n",
              "      <th>0</th>\n",
              "      <td>24</td>\n",
              "    </tr>\n",
              "    <tr>\n",
              "      <th>1</th>\n",
              "      <td>0</td>\n",
              "    </tr>\n",
              "    <tr>\n",
              "      <th>2</th>\n",
              "      <td>0</td>\n",
              "    </tr>\n",
              "    <tr>\n",
              "      <th rowspan=\"3\" valign=\"top\">(1.4, 1.5]</th>\n",
              "      <th>0</th>\n",
              "      <td>13</td>\n",
              "    </tr>\n",
              "    <tr>\n",
              "      <th>1</th>\n",
              "      <td>0</td>\n",
              "    </tr>\n",
              "    <tr>\n",
              "      <th>2</th>\n",
              "      <td>0</td>\n",
              "    </tr>\n",
              "    <tr>\n",
              "      <th rowspan=\"3\" valign=\"top\">(1.5, 2.633]</th>\n",
              "      <th>0</th>\n",
              "      <td>13</td>\n",
              "    </tr>\n",
              "    <tr>\n",
              "      <th>1</th>\n",
              "      <td>0</td>\n",
              "    </tr>\n",
              "    <tr>\n",
              "      <th>2</th>\n",
              "      <td>0</td>\n",
              "    </tr>\n",
              "    <tr>\n",
              "      <th rowspan=\"3\" valign=\"top\">(2.633, 4.1]</th>\n",
              "      <th>1</th>\n",
              "      <td>19</td>\n",
              "    </tr>\n",
              "    <tr>\n",
              "      <th>0</th>\n",
              "      <td>0</td>\n",
              "    </tr>\n",
              "    <tr>\n",
              "      <th>2</th>\n",
              "      <td>0</td>\n",
              "    </tr>\n",
              "    <tr>\n",
              "      <th rowspan=\"3\" valign=\"top\">(4.1, 4.5]</th>\n",
              "      <th>1</th>\n",
              "      <td>17</td>\n",
              "    </tr>\n",
              "    <tr>\n",
              "      <th>2</th>\n",
              "      <td>1</td>\n",
              "    </tr>\n",
              "    <tr>\n",
              "      <th>0</th>\n",
              "      <td>0</td>\n",
              "    </tr>\n",
              "    <tr>\n",
              "      <th rowspan=\"3\" valign=\"top\">(4.5, 4.9]</th>\n",
              "      <th>1</th>\n",
              "      <td>12</td>\n",
              "    </tr>\n",
              "    <tr>\n",
              "      <th>2</th>\n",
              "      <td>5</td>\n",
              "    </tr>\n",
              "    <tr>\n",
              "      <th>0</th>\n",
              "      <td>0</td>\n",
              "    </tr>\n",
              "    <tr>\n",
              "      <th rowspan=\"3\" valign=\"top\">(4.9, 5.189]</th>\n",
              "      <th>2</th>\n",
              "      <td>10</td>\n",
              "    </tr>\n",
              "    <tr>\n",
              "      <th>1</th>\n",
              "      <td>2</td>\n",
              "    </tr>\n",
              "    <tr>\n",
              "      <th>0</th>\n",
              "      <td>0</td>\n",
              "    </tr>\n",
              "    <tr>\n",
              "      <th rowspan=\"3\" valign=\"top\">(5.189, 5.7]</th>\n",
              "      <th>2</th>\n",
              "      <td>18</td>\n",
              "    </tr>\n",
              "    <tr>\n",
              "      <th>0</th>\n",
              "      <td>0</td>\n",
              "    </tr>\n",
              "    <tr>\n",
              "      <th>1</th>\n",
              "      <td>0</td>\n",
              "    </tr>\n",
              "    <tr>\n",
              "      <th rowspan=\"3\" valign=\"top\">(5.7, 6.9]</th>\n",
              "      <th>2</th>\n",
              "      <td>16</td>\n",
              "    </tr>\n",
              "    <tr>\n",
              "      <th>0</th>\n",
              "      <td>0</td>\n",
              "    </tr>\n",
              "    <tr>\n",
              "      <th>1</th>\n",
              "      <td>0</td>\n",
              "    </tr>\n",
              "  </tbody>\n",
              "</table>\n",
              "</div><br><label><b>dtype:</b> int64</label>"
            ]
          },
          "metadata": {},
          "execution_count": 273
        }
      ]
    },
    {
      "cell_type": "code",
      "source": [
        "df['petal_length_qcut'].dtype"
      ],
      "metadata": {
        "colab": {
          "base_uri": "https://localhost:8080/"
        },
        "id": "2p3vY7FxCmc4",
        "outputId": "c1db06db-1fc4-4adf-d74e-e809bd8bba25"
      },
      "execution_count": 274,
      "outputs": [
        {
          "output_type": "execute_result",
          "data": {
            "text/plain": [
              "CategoricalDtype(categories=[(0.999, 1.4],   (1.4, 1.5], (1.5, 2.633], (2.633, 4.1],\n",
              "                    (4.1, 4.5],   (4.5, 4.9], (4.9, 5.189], (5.189, 5.7],\n",
              "                    (5.7, 6.9]],\n",
              ", ordered=True, categories_dtype=interval[float64, right])"
            ]
          },
          "metadata": {},
          "execution_count": 274
        }
      ]
    },
    {
      "cell_type": "markdown",
      "source": [
        "From the above analysis it is evident that \\\n",
        "from the range of 0.999 to 2.633 there is a 100% chance that it would belong to 0 category. \\\n",
        "from the range of 2.633 to 4.1 there is a 100% chance that it would be a 1 category. \\\n",
        "from the range of 5.189-6.9 there is a 100% chance that it would be a 2. \\\n",
        "from 4.1 to 4.5 there is a 94.4% chance that it would be a 1 and a 5.5% chance it would be a 2. \\\n",
        "from 4.5 to 4.9 there is a 70.5% chance that it would be a 1 and a 29% chance it would be a 2. \\\n",
        "from 4.9 to 5.189 there is a 83.3% chance that it would be a 2 and a 16.7% chance it would be a 1. \\\n"
      ],
      "metadata": {
        "id": "iWLgLqk98ex0"
      }
    },
    {
      "cell_type": "code",
      "source": [
        "print(df['petal_length_qcut'].unique())"
      ],
      "metadata": {
        "colab": {
          "base_uri": "https://localhost:8080/"
        },
        "id": "vOziYrlVdF1x",
        "outputId": "b535066f-2268-4c3d-9785-fcd399ff15a2"
      },
      "execution_count": 275,
      "outputs": [
        {
          "output_type": "stream",
          "name": "stdout",
          "text": [
            "[(0.999, 1.4], (1.4, 1.5], (1.5, 2.633], (4.5, 4.9], (4.1, 4.5], (2.633, 4.1], (4.9, 5.189], (5.7, 6.9], (5.189, 5.7]]\n",
            "Categories (9, interval[float64, right]): [(0.999, 1.4] < (1.4, 1.5] < (1.5, 2.633] < (2.633, 4.1] <\n",
            "                                           ... < (4.5, 4.9] < (4.9, 5.189] < (5.189, 5.7] <\n",
            "                                           (5.7, 6.9]]\n"
          ]
        }
      ]
    },
    {
      "cell_type": "code",
      "source": [
        "df['petal_length_qcut'] = df['petal_length_qcut'].astype(str)"
      ],
      "metadata": {
        "id": "7GCnWhWz3-kT"
      },
      "execution_count": 276,
      "outputs": []
    },
    {
      "cell_type": "code",
      "source": [
        "# Mapping the percentages\n",
        "percentage_mapping = {\n",
        "    '(0.999, 1.4]': 99.9,\n",
        "    '(1.4, 1.5]': 99.9,\n",
        "    '(1.5, 2.633]': 99.9,\n",
        "    '(2.633, 4.1]': 99.9,\n",
        "    '(4.1, 4.5]': 94.4,\n",
        "    '(4.5, 4.9]': 70.5,\n",
        "    '(4.9, 5.189]': 83.3,\n",
        "    '(5.189, 5.7]': 99.9,\n",
        "    '(5.7, 6.9]': 99.9\n",
        "}"
      ],
      "metadata": {
        "id": "s61TeVpPZL6p"
      },
      "execution_count": 277,
      "outputs": []
    },
    {
      "cell_type": "code",
      "source": [
        "df['petal_length_prob'] = df['petal_length_qcut'].map(percentage_mapping)"
      ],
      "metadata": {
        "id": "rBR9j1R3Zw92"
      },
      "execution_count": 278,
      "outputs": []
    },
    {
      "cell_type": "code",
      "source": [
        "# Performing the mapping based on the string values of the bin categories\n",
        "df.loc[df['petal_length_qcut'] == '(0.999, 1.4]', 'petal_length_qcut'] = 0\n",
        "df.loc[(df['petal_length_qcut'] == '(1.4, 1.5]'), 'petal_length_qcut'] = 0  # 100%\n",
        "df.loc[(df['petal_length_qcut'] == '(1.5, 2.633]'), 'petal_length_qcut'] = 0  # 100%\n",
        "df.loc[(df['petal_length_qcut'] == '(2.633, 4.1]'), 'petal_length_qcut'] = 1  # 100%\n",
        "df.loc[(df['petal_length_qcut'] == '(4.1, 4.5]'), 'petal_length_qcut'] = 1  # 94.4%\n",
        "df.loc[(df['petal_length_qcut'] == '(4.5, 4.9]'), 'petal_length_qcut'] = 1  # 70.5%\n",
        "df.loc[(df['petal_length_qcut'] == '(4.9, 5.189]'), 'petal_length_qcut'] = 2  # 83.3%\n",
        "df.loc[(df['petal_length_qcut'] == '(5.189, 5.7]'), 'petal_length_qcut'] = 2  # 100%\n",
        "df.loc[df['petal_length_qcut'] == '(5.7, 6.9]', 'petal_length_qcut'] = 2  # 100%"
      ],
      "metadata": {
        "id": "fpjOGMQFDWl-"
      },
      "execution_count": 279,
      "outputs": []
    },
    {
      "cell_type": "code",
      "source": [
        "# Display the updated dataframe\n",
        "print(df[['petal length (cm)', 'petal_length_qcut','petal_length_prob']].head())"
      ],
      "metadata": {
        "colab": {
          "base_uri": "https://localhost:8080/"
        },
        "id": "7x65vwkBXAXV",
        "outputId": "e6c76550-c9d0-4424-a2a0-c18bee8e2442"
      },
      "execution_count": 280,
      "outputs": [
        {
          "output_type": "stream",
          "name": "stdout",
          "text": [
            "   petal length (cm) petal_length_qcut  petal_length_prob\n",
            "0                1.4                 0               99.9\n",
            "1                1.4                 0               99.9\n",
            "2                1.3                 0               99.9\n",
            "3                1.5                 0               99.9\n",
            "4                1.4                 0               99.9\n"
          ]
        }
      ]
    },
    {
      "cell_type": "code",
      "source": [
        "df['petal_length_qcut'] = df['petal_length_qcut'].astype(int)"
      ],
      "metadata": {
        "id": "U3y9wW-FYo2w"
      },
      "execution_count": 281,
      "outputs": []
    },
    {
      "cell_type": "markdown",
      "source": [
        "##**Test running the model after binning for petal length**"
      ],
      "metadata": {
        "id": "5y8WZxA9aUz2"
      }
    },
    {
      "cell_type": "code",
      "source": [
        "# Split data into training and testing sets\n",
        "X = df.drop(columns=['target'])\n",
        "y = df['target']\n",
        "X_train, X_test, y_train, y_test = train_test_split(X, y, test_size=0.2, random_state=42, stratify=y)\n",
        "\n",
        "# Initialize and train Random Forest model\n",
        "rf_model = RandomForestClassifier(\n",
        "    n_estimators=100,\n",
        "    max_depth=8,            # Reduce tree depth\n",
        "    min_samples_split=5,    # Require more samples to split a node\n",
        "    min_samples_leaf=3,     # Require more samples per leaf\n",
        "    max_features='sqrt',    # Use fewer features per tree\n",
        "    random_state=42\n",
        ")\n",
        "rf_model.fit(X_train, y_train)\n",
        "\n",
        "# Predict on test data\n",
        "y_pred = rf_model.predict(X_test)\n",
        "\n",
        "# Evaluate the model\n",
        "accuracy = accuracy_score(y_test, y_pred)\n",
        "print(f\"Accuracy: {accuracy:.4f}\\n\")\n",
        "print(\"Classification Report:\\n\", classification_report(y_test, y_pred))\n",
        "\n",
        "# Confusion matrix\n",
        "conf_matrix = confusion_matrix(y_test, y_pred)\n",
        "plt.figure(figsize=(5, 4))\n",
        "sns.heatmap(conf_matrix, annot=True, cmap='Blues', fmt='d', xticklabels=iris.target_names, yticklabels=iris.target_names)\n",
        "plt.xlabel('Predicted')\n",
        "plt.ylabel('Actual')\n",
        "plt.title('Confusion Matrix')\n",
        "plt.show()\n",
        "\n",
        "### **Cross-validation to check for overfitting**\n",
        "cv_scores = cross_val_score(rf_model, X_train, y_train, cv=5)\n",
        "print(f\"Cross-Validation Accuracy (Random Forest): {cv_scores.mean():.4f} ± {cv_scores.std():.4f}\")\n"
      ],
      "metadata": {
        "colab": {
          "base_uri": "https://localhost:8080/",
          "height": 664
        },
        "id": "H0fzgbhsbblk",
        "outputId": "c10d6aa7-f36e-48c9-d997-cc384197b061"
      },
      "execution_count": 283,
      "outputs": [
        {
          "output_type": "stream",
          "name": "stdout",
          "text": [
            "Accuracy: 0.9667\n",
            "\n",
            "Classification Report:\n",
            "               precision    recall  f1-score   support\n",
            "\n",
            "           0       1.00      1.00      1.00        10\n",
            "           1       1.00      0.90      0.95        10\n",
            "           2       0.91      1.00      0.95        10\n",
            "\n",
            "    accuracy                           0.97        30\n",
            "   macro avg       0.97      0.97      0.97        30\n",
            "weighted avg       0.97      0.97      0.97        30\n",
            "\n"
          ]
        },
        {
          "output_type": "display_data",
          "data": {
            "text/plain": [
              "<Figure size 500x400 with 2 Axes>"
            ],
            "image/png": "[encoded data removed]"
          },
          "metadata": {}
        },
        {
          "output_type": "stream",
          "name": "stdout",
          "text": [
            "Cross-Validation Accuracy (Random Forest): 0.9667 ± 0.0167\n"
          ]
        }
      ]
    },
    {
      "cell_type": "code",
      "source": [
        "train_sizes, train_scores, test_scores = learning_curve(rf_model, X_train, y_train, cv=5, scoring='accuracy', n_jobs=-1, train_sizes=np.linspace(0.1, 1.0, 10))\n",
        "\n",
        "# Plot learning curves\n",
        "plt.figure(figsize=(10, 6))\n",
        "plt.plot(train_sizes, np.mean(train_scores, axis=1), label=\"Training score\", color=\"blue\", linestyle='--')\n",
        "plt.plot(train_sizes, np.mean(test_scores, axis=1), label=\"Cross-validation score\", color=\"green\", linestyle='-')\n",
        "plt.title(\"Learning Curves (Random Forest)\")\n",
        "plt.xlabel(\"Training Set Size\")\n",
        "plt.ylabel(\"Accuracy\")\n",
        "plt.legend(loc=\"best\")\n",
        "plt.grid(True)\n",
        "plt.show()\n"
      ],
      "metadata": {
        "colab": {
          "base_uri": "https://localhost:8080/",
          "height": 564
        },
        "id": "uKmvZTq8wtHg",
        "outputId": "aa8124f2-4f65-4eb0-bede-a53105f69c36"
      },
      "execution_count": 284,
      "outputs": [
        {
          "output_type": "display_data",
          "data": {
            "text/plain": [
              "<Figure size 1000x600 with 1 Axes>"
            ],
            "image/png": "[encoded data removed]"
          },
          "metadata": {}
        }
      ]
    },
    {
      "cell_type": "code",
      "source": [
        "# Compute learning curve scores\n",
        "train_sizes, train_scores, test_scores = learning_curve(rf_model, X_train, y_train, cv=5, scoring='accuracy', n_jobs=-1, train_sizes=np.linspace(0.1, 1.0, 10))\n",
        "\n",
        "# Compute mean training and validation scores\n",
        "mean_train_scores = np.mean(train_scores, axis=1)\n",
        "mean_test_scores = np.mean(test_scores, axis=1)\n",
        "\n",
        "# Compute generalization gap\n",
        "generalization_gap = mean_train_scores - mean_test_scores\n",
        "\n",
        "# Print results\n",
        "for size, train, test, gap in zip(train_sizes, mean_train_scores, mean_test_scores, generalization_gap):\n",
        "    print(f\"Training Size: {size}, Train Score: {train:.4f}, Test Score: {test:.4f}, Generalization Gap: {gap:.4f}\")"
      ],
      "metadata": {
        "colab": {
          "base_uri": "https://localhost:8080/"
        },
        "id": "-dkeoj-6bcvq",
        "outputId": "fa79073c-8f35-44e9-cc88-611b226f9c91"
      },
      "execution_count": 285,
      "outputs": [
        {
          "output_type": "stream",
          "name": "stdout",
          "text": [
            "Training Size: 9, Train Score: 0.7778, Test Score: 0.5500, Generalization Gap: 0.2278\n",
            "Training Size: 19, Train Score: 0.9579, Test Score: 0.9667, Generalization Gap: -0.0088\n",
            "Training Size: 28, Train Score: 0.9714, Test Score: 0.9667, Generalization Gap: 0.0048\n",
            "Training Size: 38, Train Score: 0.9947, Test Score: 0.9667, Generalization Gap: 0.0281\n",
            "Training Size: 48, Train Score: 0.9750, Test Score: 0.9500, Generalization Gap: 0.0250\n",
            "Training Size: 57, Train Score: 0.9754, Test Score: 0.9667, Generalization Gap: 0.0088\n",
            "Training Size: 67, Train Score: 0.9851, Test Score: 0.9667, Generalization Gap: 0.0184\n",
            "Training Size: 76, Train Score: 0.9789, Test Score: 0.9583, Generalization Gap: 0.0206\n",
            "Training Size: 86, Train Score: 0.9814, Test Score: 0.9583, Generalization Gap: 0.0231\n",
            "Training Size: 96, Train Score: 0.9812, Test Score: 0.9667, Generalization Gap: 0.0146\n"
          ]
        }
      ]
    },
    {
      "cell_type": "markdown",
      "source": [
        "##**EDA using binning for the sepal_width column**"
      ],
      "metadata": {
        "id": "FrCuA_GxalDd"
      }
    },
    {
      "cell_type": "code",
      "source": [
        "df['sepal_width_qcut'] = pd.qcut(df['sepal width (cm)'], q=10, duplicates=\"drop\")"
      ],
      "metadata": {
        "id": "ONTQpvnYaQYQ"
      },
      "execution_count": 286,
      "outputs": []
    },
    {
      "cell_type": "code",
      "source": [
        "df.groupby('sepal_width_qcut')['target'].value_counts()"
      ],
      "metadata": {
        "colab": {
          "base_uri": "https://localhost:8080/",
          "height": 1000
        },
        "id": "y69M2iJKiJWE",
        "outputId": "14150f77-2668-4601-a4a9-e1514e9db5eb",
        "collapsed": true
      },
      "execution_count": 287,
      "outputs": [
        {
          "output_type": "stream",
          "name": "stderr",
          "text": [
            "<ipython-input-287-1046fda908b0>:1: FutureWarning: The default of observed=False is deprecated and will be changed to True in a future version of pandas. Pass observed=False to retain current behavior or observed=True to adopt the future default and silence this warning.\n",
            "  df.groupby('sepal_width_qcut')['target'].value_counts()\n"
          ]
        },
        {
          "output_type": "execute_result",
          "data": {
            "text/plain": [
              "sepal_width_qcut  target\n",
              "(1.999, 2.5]      1         13\n",
              "                  2          5\n",
              "                  0          1\n",
              "(2.5, 2.7]        1          8\n",
              "                  2          6\n",
              "                  0          0\n",
              "(2.7, 2.8]        2          8\n",
              "                  1          6\n",
              "                  0          0\n",
              "(2.8, 3.0]        1         15\n",
              "                  2         14\n",
              "                  0          7\n",
              "(3.0, 3.1]        0          4\n",
              "                  2          4\n",
              "                  1          3\n",
              "(3.1, 3.2]        0          5\n",
              "                  2          5\n",
              "                  1          3\n",
              "(3.2, 3.4]        0         11\n",
              "                  2          5\n",
              "                  1          2\n",
              "(3.4, 3.61]       0          9\n",
              "                  2          1\n",
              "                  1          0\n",
              "(3.61, 4.4]       0         13\n",
              "                  2          2\n",
              "                  1          0\n",
              "Name: count, dtype: int64"
            ],
            "text/html": [
              "<div>\n",
              "<style scoped>\n",
              "    .dataframe tbody tr th:only-of-type {\n",
              "        vertical-align: middle;\n",
              "    }\n",
              "\n",
              "    .dataframe tbody tr th {\n",
              "        vertical-align: top;\n",
              "    }\n",
              "\n",
              "    .dataframe thead th {\n",
              "        text-align: right;\n",
              "    }\n",
              "</style>\n",
              "<table border=\"1\" class=\"dataframe\">\n",
              "  <thead>\n",
              "    <tr style=\"text-align: right;\">\n",
              "      <th></th>\n",
              "      <th></th>\n",
              "      <th>count</th>\n",
              "    </tr>\n",
              "    <tr>\n",
              "      <th>sepal_width_qcut</th>\n",
              "      <th>target</th>\n",
              "      <th></th>\n",
              "    </tr>\n",
              "  </thead>\n",
              "  <tbody>\n",
              "    <tr>\n",
              "      <th rowspan=\"3\" valign=\"top\">(1.999, 2.5]</th>\n",
              "      <th>1</th>\n",
              "      <td>13</td>\n",
              "    </tr>\n",
              "    <tr>\n",
              "      <th>2</th>\n",
              "      <td>5</td>\n",
              "    </tr>\n",
              "    <tr>\n",
              "      <th>0</th>\n",
              "      <td>1</td>\n",
              "    </tr>\n",
              "    <tr>\n",
              "      <th rowspan=\"3\" valign=\"top\">(2.5, 2.7]</th>\n",
              "      <th>1</th>\n",
              "      <td>8</td>\n",
              "    </tr>\n",
              "    <tr>\n",
              "      <th>2</th>\n",
              "      <td>6</td>\n",
              "    </tr>\n",
              "    <tr>\n",
              "      <th>0</th>\n",
              "      <td>0</td>\n",
              "    </tr>\n",
              "    <tr>\n",
              "      <th rowspan=\"3\" valign=\"top\">(2.7, 2.8]</th>\n",
              "      <th>2</th>\n",
              "      <td>8</td>\n",
              "    </tr>\n",
              "    <tr>\n",
              "      <th>1</th>\n",
              "      <td>6</td>\n",
              "    </tr>\n",
              "    <tr>\n",
              "      <th>0</th>\n",
              "      <td>0</td>\n",
              "    </tr>\n",
              "    <tr>\n",
              "      <th rowspan=\"3\" valign=\"top\">(2.8, 3.0]</th>\n",
              "      <th>1</th>\n",
              "      <td>15</td>\n",
              "    </tr>\n",
              "    <tr>\n",
              "      <th>2</th>\n",
              "      <td>14</td>\n",
              "    </tr>\n",
              "    <tr>\n",
              "      <th>0</th>\n",
              "      <td>7</td>\n",
              "    </tr>\n",
              "    <tr>\n",
              "      <th rowspan=\"3\" valign=\"top\">(3.0, 3.1]</th>\n",
              "      <th>0</th>\n",
              "      <td>4</td>\n",
              "    </tr>\n",
              "    <tr>\n",
              "      <th>2</th>\n",
              "      <td>4</td>\n",
              "    </tr>\n",
              "    <tr>\n",
              "      <th>1</th>\n",
              "      <td>3</td>\n",
              "    </tr>\n",
              "    <tr>\n",
              "      <th rowspan=\"3\" valign=\"top\">(3.1, 3.2]</th>\n",
              "      <th>0</th>\n",
              "      <td>5</td>\n",
              "    </tr>\n",
              "    <tr>\n",
              "      <th>2</th>\n",
              "      <td>5</td>\n",
              "    </tr>\n",
              "    <tr>\n",
              "      <th>1</th>\n",
              "      <td>3</td>\n",
              "    </tr>\n",
              "    <tr>\n",
              "      <th rowspan=\"3\" valign=\"top\">(3.2, 3.4]</th>\n",
              "      <th>0</th>\n",
              "      <td>11</td>\n",
              "    </tr>\n",
              "    <tr>\n",
              "      <th>2</th>\n",
              "      <td>5</td>\n",
              "    </tr>\n",
              "    <tr>\n",
              "      <th>1</th>\n",
              "      <td>2</td>\n",
              "    </tr>\n",
              "    <tr>\n",
              "      <th rowspan=\"3\" valign=\"top\">(3.4, 3.61]</th>\n",
              "      <th>0</th>\n",
              "      <td>9</td>\n",
              "    </tr>\n",
              "    <tr>\n",
              "      <th>2</th>\n",
              "      <td>1</td>\n",
              "    </tr>\n",
              "    <tr>\n",
              "      <th>1</th>\n",
              "      <td>0</td>\n",
              "    </tr>\n",
              "    <tr>\n",
              "      <th rowspan=\"3\" valign=\"top\">(3.61, 4.4]</th>\n",
              "      <th>0</th>\n",
              "      <td>13</td>\n",
              "    </tr>\n",
              "    <tr>\n",
              "      <th>2</th>\n",
              "      <td>2</td>\n",
              "    </tr>\n",
              "    <tr>\n",
              "      <th>1</th>\n",
              "      <td>0</td>\n",
              "    </tr>\n",
              "  </tbody>\n",
              "</table>\n",
              "</div><br><label><b>dtype:</b> int64</label>"
            ]
          },
          "metadata": {},
          "execution_count": 287
        }
      ]
    },
    {
      "cell_type": "code",
      "source": [
        "df['sepal_width_qcut'].unique()"
      ],
      "metadata": {
        "colab": {
          "base_uri": "https://localhost:8080/"
        },
        "id": "_3KD604V68jc",
        "outputId": "97523e88-8e7e-4ae6-c8bf-75dbfe94a332"
      },
      "execution_count": 288,
      "outputs": [
        {
          "output_type": "execute_result",
          "data": {
            "text/plain": [
              "[(3.4, 3.61], (2.8, 3.0], (3.1, 3.2], (3.0, 3.1], (3.61, 4.4], (3.2, 3.4], (1.999, 2.5], (2.7, 2.8], (2.5, 2.7]]\n",
              "Categories (9, interval[float64, right]): [(1.999, 2.5] < (2.5, 2.7] < (2.7, 2.8] < (2.8, 3.0] < ... <\n",
              "                                           (3.1, 3.2] < (3.2, 3.4] < (3.4, 3.61] < (3.61, 4.4]]"
            ]
          },
          "metadata": {},
          "execution_count": 288
        }
      ]
    },
    {
      "cell_type": "code",
      "source": [
        "df['sepal_width_qcut'] = df['sepal_width_qcut'].astype(str)"
      ],
      "metadata": {
        "id": "qVSXRSN55k8r"
      },
      "execution_count": 289,
      "outputs": []
    },
    {
      "cell_type": "code",
      "source": [
        "#mapping\n",
        "sepal_width_percentage_mapping = {\n",
        "    '(1.999, 2.5]': 68.42,\n",
        "    '(2.5, 2.7]': 57.14,\n",
        "    '(2.7, 2.8]': 57.14,\n",
        "    '(2.8, 3.0]': 42.86,\n",
        "    '(3.0, 3.1]': 36.36,\n",
        "    '(3.1, 3.2]': 38.46,\n",
        "    '(3.2, 3.4]': 61.11,\n",
        "    '(3.4, 3.61]': 90,\n",
        "    '(3.61, 4.4]': 86.67\n",
        "}"
      ],
      "metadata": {
        "id": "1kCWzJH_EA3S"
      },
      "execution_count": 290,
      "outputs": []
    },
    {
      "cell_type": "code",
      "source": [
        "df['sepal_width_prob'] = df['sepal_width_qcut'].map(sepal_width_percentage_mapping)"
      ],
      "metadata": {
        "id": "1aATq-3DHupA"
      },
      "execution_count": 291,
      "outputs": []
    },
    {
      "cell_type": "code",
      "source": [
        "# Performing the mapping based on the string values of the bin categories\n",
        "df.loc[df['sepal_width_qcut'] == '(1.999, 2.5]', 'sepal_width_qcut'] = 1 # 68.42%\n",
        "df.loc[(df['sepal_width_qcut'] == '(2.5, 2.7]'), 'sepal_width_qcut'] = 1 # 57.14%\n",
        "df.loc[(df['sepal_width_qcut'] == '(2.7, 2.8]'), 'sepal_width_qcut'] = 2 # 57.14%\n",
        "df.loc[(df['sepal_width_qcut'] == '(2.8, 3.0]'), 'sepal_width_qcut'] = 1 # 42.86%\n",
        "df.loc[(df['sepal_width_qcut'] == '(3.0, 3.1]'), 'sepal_width_qcut'] = 0 # 36.36%\n",
        "df.loc[(df['sepal_width_qcut'] == '(3.1, 3.2]'), 'sepal_width_qcut'] = 0 # 38.46%\n",
        "df.loc[(df['sepal_width_qcut'] == '(3.2, 3.4]'), 'sepal_width_qcut'] = 0 # 61.11%\n",
        "df.loc[(df['sepal_width_qcut'] == '(3.4, 3.61]'), 'sepal_width_qcut'] = 9 # 90%\n",
        "df.loc[df['sepal_width_qcut'] == '(3.61, 4.4]', 'sepal_width_qcut'] = 13 # 86.67%"
      ],
      "metadata": {
        "id": "AeOVjsF65vJC"
      },
      "execution_count": 292,
      "outputs": []
    },
    {
      "cell_type": "code",
      "source": [
        "df['sepal_width_qcut'] = df['sepal_width_qcut'].astype(int) #fillna(-1)"
      ],
      "metadata": {
        "id": "YHQDwpYH51JG"
      },
      "execution_count": 293,
      "outputs": []
    },
    {
      "cell_type": "code",
      "source": [
        "# Split data into training and testing sets\n",
        "X = df.drop(columns=['target'])\n",
        "y = df['target']\n",
        "X_train, X_test, y_train, y_test = train_test_split(X, y, test_size=0.2, random_state=42, stratify=y)\n",
        "\n",
        "# Initialize and train Random Forest model\n",
        "rf_model = RandomForestClassifier(\n",
        "    n_estimators=100,\n",
        "    max_depth=8,            # Reduce tree depth\n",
        "    min_samples_split=5,    # Require more samples to split a node\n",
        "    min_samples_leaf=3,     # Require more samples per leaf\n",
        "    max_features='sqrt',    # Use fewer features per tree\n",
        "    random_state=42\n",
        ")\n",
        "rf_model.fit(X_train, y_train)\n",
        "\n",
        "# Predict on test data\n",
        "y_pred = rf_model.predict(X_test)\n",
        "\n",
        "# Evaluate the model\n",
        "accuracy = accuracy_score(y_test, y_pred)\n",
        "print(f\"Accuracy: {accuracy:.4f}\\n\")\n",
        "print(\"Classification Report:\\n\", classification_report(y_test, y_pred))\n",
        "\n",
        "# Confusion matrix\n",
        "conf_matrix = confusion_matrix(y_test, y_pred)\n",
        "plt.figure(figsize=(5, 4))\n",
        "sns.heatmap(conf_matrix, annot=True, cmap='Blues', fmt='d', xticklabels=iris.target_names, yticklabels=iris.target_names)\n",
        "plt.xlabel('Predicted')\n",
        "plt.ylabel('Actual')\n",
        "plt.title('Confusion Matrix')\n",
        "plt.show()\n",
        "\n",
        "### **Cross-validation to check for overfitting**\n",
        "cv_scores = cross_val_score(rf_model, X_train, y_train, cv=5)\n",
        "print(f\"Cross-Validation Accuracy (Random Forest): {cv_scores.mean():.4f} ± {cv_scores.std():.4f}\")"
      ],
      "metadata": {
        "colab": {
          "base_uri": "https://localhost:8080/",
          "height": 664
        },
        "id": "yN1HGPJs6ENd",
        "outputId": "d413ebdd-9a29-4d4e-fdd0-1bc9fdbcb65f"
      },
      "execution_count": 295,
      "outputs": [
        {
          "output_type": "stream",
          "name": "stdout",
          "text": [
            "Accuracy: 0.9333\n",
            "\n",
            "Classification Report:\n",
            "               precision    recall  f1-score   support\n",
            "\n",
            "           0       1.00      1.00      1.00        10\n",
            "           1       0.90      0.90      0.90        10\n",
            "           2       0.90      0.90      0.90        10\n",
            "\n",
            "    accuracy                           0.93        30\n",
            "   macro avg       0.93      0.93      0.93        30\n",
            "weighted avg       0.93      0.93      0.93        30\n",
            "\n"
          ]
        },
        {
          "output_type": "display_data",
          "data": {
            "text/plain": [
              "<Figure size 500x400 with 2 Axes>"
            ],
            "image/png": "[encoded data removed]"
          },
          "metadata": {}
        },
        {
          "output_type": "stream",
          "name": "stdout",
          "text": [
            "Cross-Validation Accuracy (Random Forest): 0.9667 ± 0.0167\n"
          ]
        }
      ]
    },
    {
      "cell_type": "code",
      "source": [
        "# Learning Curves to check for overfitting\n",
        "train_sizes, train_scores, test_scores = learning_curve(rf_model, X_train, y_train, cv=5, scoring='accuracy', n_jobs=-1, train_sizes=np.linspace(0.1, 1.0, 10))\n",
        "\n",
        "# Plot learning curves\n",
        "plt.figure(figsize=(10, 6))\n",
        "plt.plot(train_sizes, np.mean(train_scores, axis=1), label=\"Training score\", color=\"blue\", linestyle='--')\n",
        "plt.plot(train_sizes, np.mean(test_scores, axis=1), label=\"Cross-validation score\", color=\"green\", linestyle='-')\n",
        "plt.title(\"Learning Curves (Random Forest)\")\n",
        "plt.xlabel(\"Training Set Size\")\n",
        "plt.ylabel(\"Accuracy\")\n",
        "plt.legend(loc=\"best\")\n",
        "plt.grid(True)\n",
        "plt.show()\n"
      ],
      "metadata": {
        "colab": {
          "base_uri": "https://localhost:8080/",
          "height": 564
        },
        "id": "Fsvjg3wi6J13",
        "outputId": "745ec534-2e38-441a-8625-ea1727111439"
      },
      "execution_count": 296,
      "outputs": [
        {
          "output_type": "display_data",
          "data": {
            "text/plain": [
              "<Figure size 1000x600 with 1 Axes>"
            ],
            "image/png": "[encoded data removed]"
          },
          "metadata": {}
        }
      ]
    },
    {
      "cell_type": "code",
      "source": [
        "# Compute learning curve scores\n",
        "train_sizes, train_scores, test_scores = learning_curve(rf_model, X_train, y_train, cv=5, scoring='accuracy', n_jobs=-1, train_sizes=np.linspace(0.1, 1.0, 10))\n",
        "\n",
        "# Compute mean training and validation scores\n",
        "mean_train_scores = np.mean(train_scores, axis=1)\n",
        "mean_test_scores = np.mean(test_scores, axis=1)\n",
        "\n",
        "# Compute generalization gap\n",
        "generalization_gap = mean_train_scores - mean_test_scores\n",
        "\n",
        "# Print results\n",
        "for size, train, test, gap in zip(train_sizes, mean_train_scores, mean_test_scores, generalization_gap):\n",
        "    print(f\"Training Size: {size}, Train Score: {train:.4f}, Test Score: {test:.4f}, Generalization Gap: {gap:.4f}\")"
      ],
      "metadata": {
        "colab": {
          "base_uri": "https://localhost:8080/"
        },
        "id": "H43nqxgm6RCz",
        "outputId": "be5908a0-49da-4932-a906-4d608f4a369d"
      },
      "execution_count": 297,
      "outputs": [
        {
          "output_type": "stream",
          "name": "stdout",
          "text": [
            "Training Size: 9, Train Score: 0.7778, Test Score: 0.5583, Generalization Gap: 0.2194\n",
            "Training Size: 19, Train Score: 0.9579, Test Score: 0.9500, Generalization Gap: 0.0079\n",
            "Training Size: 28, Train Score: 0.9714, Test Score: 0.9500, Generalization Gap: 0.0214\n",
            "Training Size: 38, Train Score: 0.9789, Test Score: 0.9583, Generalization Gap: 0.0206\n",
            "Training Size: 48, Train Score: 0.9750, Test Score: 0.9667, Generalization Gap: 0.0083\n",
            "Training Size: 57, Train Score: 0.9754, Test Score: 0.9583, Generalization Gap: 0.0171\n",
            "Training Size: 67, Train Score: 0.9761, Test Score: 0.9750, Generalization Gap: 0.0011\n",
            "Training Size: 76, Train Score: 0.9816, Test Score: 0.9583, Generalization Gap: 0.0232\n",
            "Training Size: 86, Train Score: 0.9837, Test Score: 0.9583, Generalization Gap: 0.0254\n",
            "Training Size: 96, Train Score: 0.9854, Test Score: 0.9667, Generalization Gap: 0.0188\n"
          ]
        }
      ]
    },
    {
      "cell_type": "markdown",
      "source": [
        "The values are less than 0.4 so no overfitting and shows better generalization"
      ],
      "metadata": {
        "id": "jbc_QMMYKhUc"
      }
    },
    {
      "cell_type": "markdown",
      "source": [
        "##**EDA using binning for the sepal_length column**"
      ],
      "metadata": {
        "id": "X4nREyYbh1ie"
      }
    },
    {
      "cell_type": "code",
      "source": [
        "df['sepal_length_qcut'] = pd.qcut(df['sepal length (cm)'], q=9, duplicates=\"drop\")"
      ],
      "metadata": {
        "id": "bBhZqAOljfh_"
      },
      "execution_count": 298,
      "outputs": []
    },
    {
      "cell_type": "code",
      "source": [
        "df.groupby('sepal_length_qcut')['target'].value_counts()"
      ],
      "metadata": {
        "colab": {
          "base_uri": "https://localhost:8080/",
          "height": 1000
        },
        "id": "HOtd67x7jyHk",
        "outputId": "7a057a3c-0c6f-4312-e4c0-9695cf231ac7",
        "collapsed": true
      },
      "execution_count": 299,
      "outputs": [
        {
          "output_type": "stream",
          "name": "stderr",
          "text": [
            "<ipython-input-299-0ae6d85b9f0e>:1: FutureWarning: The default of observed=False is deprecated and will be changed to True in a future version of pandas. Pass observed=False to retain current behavior or observed=True to adopt the future default and silence this warning.\n",
            "  df.groupby('sepal_length_qcut')['target'].value_counts()\n"
          ]
        },
        {
          "output_type": "execute_result",
          "data": {
            "text/plain": [
              "sepal_length_qcut          target\n",
              "(4.2989999999999995, 4.9]  0         20\n",
              "                           1          1\n",
              "                           2          1\n",
              "(4.9, 5.1]                 0         16\n",
              "                           1          3\n",
              "                           2          0\n",
              "(5.1, 5.4]                 0          9\n",
              "                           1          2\n",
              "                           2          0\n",
              "(5.4, 5.7]                 1         15\n",
              "                           0          4\n",
              "                           2          2\n",
              "(5.7, 5.978]               1          5\n",
              "                           2          4\n",
              "                           0          1\n",
              "(5.978, 6.3]               1         13\n",
              "                           2         12\n",
              "                           0          0\n",
              "(6.3, 6.5]                 2          9\n",
              "                           1          3\n",
              "                           0          0\n",
              "(6.5, 6.844]               2          7\n",
              "                           1          6\n",
              "                           0          0\n",
              "(6.844, 7.9]               2         15\n",
              "                           1          2\n",
              "                           0          0\n",
              "Name: count, dtype: int64"
            ],
            "text/html": [
              "<div>\n",
              "<style scoped>\n",
              "    .dataframe tbody tr th:only-of-type {\n",
              "        vertical-align: middle;\n",
              "    }\n",
              "\n",
              "    .dataframe tbody tr th {\n",
              "        vertical-align: top;\n",
              "    }\n",
              "\n",
              "    .dataframe thead th {\n",
              "        text-align: right;\n",
              "    }\n",
              "</style>\n",
              "<table border=\"1\" class=\"dataframe\">\n",
              "  <thead>\n",
              "    <tr style=\"text-align: right;\">\n",
              "      <th></th>\n",
              "      <th></th>\n",
              "      <th>count</th>\n",
              "    </tr>\n",
              "    <tr>\n",
              "      <th>sepal_length_qcut</th>\n",
              "      <th>target</th>\n",
              "      <th></th>\n",
              "    </tr>\n",
              "  </thead>\n",
              "  <tbody>\n",
              "    <tr>\n",
              "      <th rowspan=\"3\" valign=\"top\">(4.2989999999999995, 4.9]</th>\n",
              "      <th>0</th>\n",
              "      <td>20</td>\n",
              "    </tr>\n",
              "    <tr>\n",
              "      <th>1</th>\n",
              "      <td>1</td>\n",
              "    </tr>\n",
              "    <tr>\n",
              "      <th>2</th>\n",
              "      <td>1</td>\n",
              "    </tr>\n",
              "    <tr>\n",
              "      <th rowspan=\"3\" valign=\"top\">(4.9, 5.1]</th>\n",
              "      <th>0</th>\n",
              "      <td>16</td>\n",
              "    </tr>\n",
              "    <tr>\n",
              "      <th>1</th>\n",
              "      <td>3</td>\n",
              "    </tr>\n",
              "    <tr>\n",
              "      <th>2</th>\n",
              "      <td>0</td>\n",
              "    </tr>\n",
              "    <tr>\n",
              "      <th rowspan=\"3\" valign=\"top\">(5.1, 5.4]</th>\n",
              "      <th>0</th>\n",
              "      <td>9</td>\n",
              "    </tr>\n",
              "    <tr>\n",
              "      <th>1</th>\n",
              "      <td>2</td>\n",
              "    </tr>\n",
              "    <tr>\n",
              "      <th>2</th>\n",
              "      <td>0</td>\n",
              "    </tr>\n",
              "    <tr>\n",
              "      <th rowspan=\"3\" valign=\"top\">(5.4, 5.7]</th>\n",
              "      <th>1</th>\n",
              "      <td>15</td>\n",
              "    </tr>\n",
              "    <tr>\n",
              "      <th>0</th>\n",
              "      <td>4</td>\n",
              "    </tr>\n",
              "    <tr>\n",
              "      <th>2</th>\n",
              "      <td>2</td>\n",
              "    </tr>\n",
              "    <tr>\n",
              "      <th rowspan=\"3\" valign=\"top\">(5.7, 5.978]</th>\n",
              "      <th>1</th>\n",
              "      <td>5</td>\n",
              "    </tr>\n",
              "    <tr>\n",
              "      <th>2</th>\n",
              "      <td>4</td>\n",
              "    </tr>\n",
              "    <tr>\n",
              "      <th>0</th>\n",
              "      <td>1</td>\n",
              "    </tr>\n",
              "    <tr>\n",
              "      <th rowspan=\"3\" valign=\"top\">(5.978, 6.3]</th>\n",
              "      <th>1</th>\n",
              "      <td>13</td>\n",
              "    </tr>\n",
              "    <tr>\n",
              "      <th>2</th>\n",
              "      <td>12</td>\n",
              "    </tr>\n",
              "    <tr>\n",
              "      <th>0</th>\n",
              "      <td>0</td>\n",
              "    </tr>\n",
              "    <tr>\n",
              "      <th rowspan=\"3\" valign=\"top\">(6.3, 6.5]</th>\n",
              "      <th>2</th>\n",
              "      <td>9</td>\n",
              "    </tr>\n",
              "    <tr>\n",
              "      <th>1</th>\n",
              "      <td>3</td>\n",
              "    </tr>\n",
              "    <tr>\n",
              "      <th>0</th>\n",
              "      <td>0</td>\n",
              "    </tr>\n",
              "    <tr>\n",
              "      <th rowspan=\"3\" valign=\"top\">(6.5, 6.844]</th>\n",
              "      <th>2</th>\n",
              "      <td>7</td>\n",
              "    </tr>\n",
              "    <tr>\n",
              "      <th>1</th>\n",
              "      <td>6</td>\n",
              "    </tr>\n",
              "    <tr>\n",
              "      <th>0</th>\n",
              "      <td>0</td>\n",
              "    </tr>\n",
              "    <tr>\n",
              "      <th rowspan=\"3\" valign=\"top\">(6.844, 7.9]</th>\n",
              "      <th>2</th>\n",
              "      <td>15</td>\n",
              "    </tr>\n",
              "    <tr>\n",
              "      <th>1</th>\n",
              "      <td>2</td>\n",
              "    </tr>\n",
              "    <tr>\n",
              "      <th>0</th>\n",
              "      <td>0</td>\n",
              "    </tr>\n",
              "  </tbody>\n",
              "</table>\n",
              "</div><br><label><b>dtype:</b> int64</label>"
            ]
          },
          "metadata": {},
          "execution_count": 299
        }
      ]
    },
    {
      "cell_type": "code",
      "source": [
        "df['sepal_length_qcut'] = df['sepal_length_qcut'].astype(str)"
      ],
      "metadata": {
        "id": "s2ZF8nGVDmAA"
      },
      "execution_count": 300,
      "outputs": []
    },
    {
      "cell_type": "code",
      "source": [
        "#mapping\n",
        "percentage_mapping = {\n",
        "    '(4.2989999999999995, 4.9]': 90.9,\n",
        "    '(4.9, 5.1]': 84.21,\n",
        "    '(5.1, 5.4]': 81.8,\n",
        "    '(5.4, 5.7]': 71.43,\n",
        "    '(5.7, 5.978]': 50,\n",
        "    '(5.978, 6.3]': 52,\n",
        "    '(6.3, 6.5]': 75,\n",
        "    '(6.5, 6.844]': 53.85,\n",
        "    '(6.844, 7.9]': 88.23\n",
        "}"
      ],
      "metadata": {
        "id": "HZMks3J_Dpsj"
      },
      "execution_count": 301,
      "outputs": []
    },
    {
      "cell_type": "code",
      "source": [
        "df['sepal_length_prob'] = df['sepal_length_qcut'].map(percentage_mapping)"
      ],
      "metadata": {
        "id": "T3PMPuMnGeyU"
      },
      "execution_count": 302,
      "outputs": []
    },
    {
      "cell_type": "code",
      "source": [
        "df['sepal_length_qcut'].unique()"
      ],
      "metadata": {
        "colab": {
          "base_uri": "https://localhost:8080/"
        },
        "id": "gG0qjz6rEEbZ",
        "outputId": "acedc37e-253c-4958-eb9c-2b36cf4d4808"
      },
      "execution_count": 303,
      "outputs": [
        {
          "output_type": "execute_result",
          "data": {
            "text/plain": [
              "array(['(4.9, 5.1]', '(4.2989999999999995, 4.9]', '(5.1, 5.4]',\n",
              "       '(5.7, 5.978]', '(5.4, 5.7]', '(6.844, 7.9]', '(6.3, 6.5]',\n",
              "       '(5.978, 6.3]', '(6.5, 6.844]'], dtype=object)"
            ]
          },
          "metadata": {},
          "execution_count": 303
        }
      ]
    },
    {
      "cell_type": "code",
      "source": [
        "# # Performing the mapping based on the string values of the bin categories\n",
        "df.loc[df['sepal_length_qcut'] == '(4.2989999999999995, 4.9]', 'sepal_length_qcut'] = 0 #90.9%\n",
        "df.loc[(df['sepal_length_qcut'] == '(4.9, 5.1]'), 'sepal_length_qcut'] = 0  # 84.21%\n",
        "df.loc[(df['sepal_length_qcut'] == '(5.1, 5.4]'), 'sepal_length_qcut'] = 0  # 81.8%\n",
        "df.loc[(df['sepal_length_qcut'] == '(5.4, 5.7]'), 'sepal_length_qcut'] = 1  # 71.43%\n",
        "df.loc[(df['sepal_length_qcut'] == '(5.7, 5.978]'), 'sepal_length_qcut'] = 1  # 50%\n",
        "df.loc[(df['sepal_length_qcut'] == '(5.978, 6.3]'), 'sepal_length_qcut'] = 1  # 52%\n",
        "df.loc[(df['sepal_length_qcut'] == '(6.3, 6.5]'), 'sepal_length_qcut'] = 2  # 75%\n",
        "df.loc[(df['sepal_length_qcut'] == '(6.5, 6.844]'), 'sepal_length_qcut'] = 2  # 53.85%\n",
        "df.loc[df['sepal_length_qcut'] == '(6.844, 7.9]', 'sepal_length_qcut'] = 2  # 88.23%"
      ],
      "metadata": {
        "id": "N8zmh_BKkiWW"
      },
      "execution_count": 304,
      "outputs": []
    },
    {
      "cell_type": "code",
      "source": [
        "df['sepal_width_qcut'] = df['sepal_width_qcut'].astype(int) #fillna(-1)"
      ],
      "metadata": {
        "id": "faQo7IoTHQOL"
      },
      "execution_count": 305,
      "outputs": []
    },
    {
      "cell_type": "code",
      "source": [
        "# Split data into training and testing sets\n",
        "X = df.drop(columns=['target'])\n",
        "y = df['target']\n",
        "X_train, X_test, y_train, y_test = train_test_split(X, y, test_size=0.2, random_state=42, stratify=y)\n",
        "\n",
        "# Initialize and train Random Forest model\n",
        "rf_model = RandomForestClassifier(\n",
        "    n_estimators=100,\n",
        "    max_depth=8,            # Reduce tree depth\n",
        "    min_samples_split=5,    # Require more samples to split a node\n",
        "    min_samples_leaf=3,     # Require more samples per leaf\n",
        "    max_features='sqrt',    # Use fewer features per tree\n",
        "    random_state=42\n",
        ")\n",
        "rf_model.fit(X_train, y_train)\n",
        "\n",
        "# Predict on test data\n",
        "y_pred = rf_model.predict(X_test)\n",
        "\n",
        "# Evaluate the model\n",
        "accuracy = accuracy_score(y_test, y_pred)\n",
        "print(f\"Accuracy: {accuracy:.4f}\\n\")\n",
        "print(\"Classification Report:\\n\", classification_report(y_test, y_pred))\n",
        "\n",
        "# Confusion matrix\n",
        "conf_matrix = confusion_matrix(y_test, y_pred)\n",
        "plt.figure(figsize=(5, 4))\n",
        "sns.heatmap(conf_matrix, annot=True, cmap='Blues', fmt='d', xticklabels=iris.target_names, yticklabels=iris.target_names)\n",
        "plt.xlabel('Predicted')\n",
        "plt.ylabel('Actual')\n",
        "plt.title('Confusion Matrix')\n",
        "plt.show()\n",
        "\n",
        "### **Cross-validation to check for overfitting**\n",
        "cv_scores = cross_val_score(rf_model, X_train, y_train, cv=5)\n",
        "print(f\"Cross-Validation Accuracy (Random Forest): {cv_scores.mean():.4f} ± {cv_scores.std():.4f}\")"
      ],
      "metadata": {
        "colab": {
          "base_uri": "https://localhost:8080/",
          "height": 664
        },
        "id": "M76VRahYGx-M",
        "outputId": "349b510e-c8ed-4327-dd29-1dfddfc92de3"
      },
      "execution_count": 306,
      "outputs": [
        {
          "output_type": "stream",
          "name": "stdout",
          "text": [
            "Accuracy: 0.9667\n",
            "\n",
            "Classification Report:\n",
            "               precision    recall  f1-score   support\n",
            "\n",
            "           0       1.00      1.00      1.00        10\n",
            "           1       1.00      0.90      0.95        10\n",
            "           2       0.91      1.00      0.95        10\n",
            "\n",
            "    accuracy                           0.97        30\n",
            "   macro avg       0.97      0.97      0.97        30\n",
            "weighted avg       0.97      0.97      0.97        30\n",
            "\n"
          ]
        },
        {
          "output_type": "display_data",
          "data": {
            "text/plain": [
              "<Figure size 500x400 with 2 Axes>"
            ],
            "image/png": "[encoded data removed]"
          },
          "metadata": {}
        },
        {
          "output_type": "stream",
          "name": "stdout",
          "text": [
            "Cross-Validation Accuracy (Random Forest): 0.9667 ± 0.0167\n"
          ]
        }
      ]
    },
    {
      "cell_type": "code",
      "source": [
        "# Learning Curves to check for overfitting\n",
        "train_sizes, train_scores, test_scores = learning_curve(rf_model, X_train, y_train, cv=5, scoring='accuracy', n_jobs=-1, train_sizes=np.linspace(0.1, 1.0, 10))\n",
        "\n",
        "# Plot learning curves\n",
        "plt.figure(figsize=(10, 6))\n",
        "plt.plot(train_sizes, np.mean(train_scores, axis=1), label=\"Training score\", color=\"blue\", linestyle='--')\n",
        "plt.plot(train_sizes, np.mean(test_scores, axis=1), label=\"Cross-validation score\", color=\"green\", linestyle='-')\n",
        "plt.title(\"Learning Curves (Random Forest)\")\n",
        "plt.xlabel(\"Training Set Size\")\n",
        "plt.ylabel(\"Accuracy\")\n",
        "plt.legend(loc=\"best\")\n",
        "plt.grid(True)\n",
        "plt.show()\n"
      ],
      "metadata": {
        "colab": {
          "base_uri": "https://localhost:8080/",
          "height": 564
        },
        "id": "LHE4uVirHdi5",
        "outputId": "8134ac18-a09d-4b35-e42b-3f6e4537da37"
      },
      "execution_count": 307,
      "outputs": [
        {
          "output_type": "display_data",
          "data": {
            "text/plain": [
              "<Figure size 1000x600 with 1 Axes>"
            ],
            "image/png": "[encoded data removed]"
          },
          "metadata": {}
        }
      ]
    },
    {
      "cell_type": "code",
      "source": [
        "# Compute learning curve scores\n",
        "train_sizes, train_scores, test_scores = learning_curve(rf_model, X_train, y_train, cv=5, scoring='accuracy', n_jobs=-1, train_sizes=np.linspace(0.1, 1.0, 10))\n",
        "\n",
        "# Compute mean training and validation scores\n",
        "mean_train_scores = np.mean(train_scores, axis=1)\n",
        "mean_test_scores = np.mean(test_scores, axis=1)\n",
        "\n",
        "# Compute generalization gap\n",
        "generalization_gap = mean_train_scores - mean_test_scores\n",
        "\n",
        "# Print results\n",
        "for size, train, test, gap in zip(train_sizes, mean_train_scores, mean_test_scores, generalization_gap):\n",
        "    print(f\"Training Size: {size}, Train Score: {train:.4f}, Test Score: {test:.4f}, Generalization Gap: {gap:.4f}\")"
      ],
      "metadata": {
        "colab": {
          "base_uri": "https://localhost:8080/"
        },
        "id": "4rjjEMcQHiS5",
        "outputId": "e3bc59a4-68f4-4064-fe86-9f808628c52f"
      },
      "execution_count": 308,
      "outputs": [
        {
          "output_type": "stream",
          "name": "stdout",
          "text": [
            "Training Size: 9, Train Score: 0.7778, Test Score: 0.5500, Generalization Gap: 0.2278\n",
            "Training Size: 19, Train Score: 1.0000, Test Score: 0.9417, Generalization Gap: 0.0583\n",
            "Training Size: 28, Train Score: 0.9714, Test Score: 0.9583, Generalization Gap: 0.0131\n",
            "Training Size: 38, Train Score: 0.9947, Test Score: 0.9583, Generalization Gap: 0.0364\n",
            "Training Size: 48, Train Score: 0.9750, Test Score: 0.9667, Generalization Gap: 0.0083\n",
            "Training Size: 57, Train Score: 0.9754, Test Score: 0.9583, Generalization Gap: 0.0171\n",
            "Training Size: 67, Train Score: 0.9761, Test Score: 0.9667, Generalization Gap: 0.0095\n",
            "Training Size: 76, Train Score: 0.9763, Test Score: 0.9583, Generalization Gap: 0.0180\n",
            "Training Size: 86, Train Score: 0.9791, Test Score: 0.9667, Generalization Gap: 0.0124\n",
            "Training Size: 96, Train Score: 0.9812, Test Score: 0.9667, Generalization Gap: 0.0146\n"
          ]
        }
      ]
    },
    {
      "cell_type": "markdown",
      "source": [
        "##**EDA using binning for the petal_width column**"
      ],
      "metadata": {
        "id": "Er9RdjsBh2ou"
      }
    },
    {
      "cell_type": "code",
      "source": [
        "df['petal_width_qcut'] = pd.qcut(df['petal width (cm)'], q=9, duplicates=\"drop\")"
      ],
      "metadata": {
        "id": "pFbO29oqh__z"
      },
      "execution_count": 309,
      "outputs": []
    },
    {
      "cell_type": "code",
      "source": [
        "df.groupby('petal_width_qcut')['target'].value_counts()"
      ],
      "metadata": {
        "colab": {
          "base_uri": "https://localhost:8080/",
          "height": 1000
        },
        "id": "mrfj3jVnkFjX",
        "outputId": "dfc01eb1-f80f-4956-d99d-ec444a8c19bb",
        "collapsed": true
      },
      "execution_count": 310,
      "outputs": [
        {
          "output_type": "stream",
          "name": "stderr",
          "text": [
            "<ipython-input-310-b8b6c66591bd>:1: FutureWarning: The default of observed=False is deprecated and will be changed to True in a future version of pandas. Pass observed=False to retain current behavior or observed=True to adopt the future default and silence this warning.\n",
            "  df.groupby('petal_width_qcut')['target'].value_counts()\n"
          ]
        },
        {
          "output_type": "execute_result",
          "data": {
            "text/plain": [
              "petal_width_qcut  target\n",
              "(0.099, 0.2]      0         34\n",
              "                  1          0\n",
              "                  2          0\n",
              "(0.2, 0.211]      0          0\n",
              "                  1          0\n",
              "                  2          0\n",
              "(0.211, 0.867]    0         16\n",
              "                  1          0\n",
              "                  2          0\n",
              "(0.867, 1.3]      1         28\n",
              "                  0          0\n",
              "                  2          0\n",
              "(1.3, 1.4]        1          7\n",
              "                  2          1\n",
              "                  0          0\n",
              "(1.4, 1.6]        1         13\n",
              "                  2          3\n",
              "                  0          0\n",
              "(1.6, 1.889]      2         12\n",
              "                  1          2\n",
              "                  0          0\n",
              "(1.889, 2.144]    2         17\n",
              "                  0          0\n",
              "                  1          0\n",
              "(2.144, 2.5]      2         17\n",
              "                  0          0\n",
              "                  1          0\n",
              "Name: count, dtype: int64"
            ],
            "text/html": [
              "<div>\n",
              "<style scoped>\n",
              "    .dataframe tbody tr th:only-of-type {\n",
              "        vertical-align: middle;\n",
              "    }\n",
              "\n",
              "    .dataframe tbody tr th {\n",
              "        vertical-align: top;\n",
              "    }\n",
              "\n",
              "    .dataframe thead th {\n",
              "        text-align: right;\n",
              "    }\n",
              "</style>\n",
              "<table border=\"1\" class=\"dataframe\">\n",
              "  <thead>\n",
              "    <tr style=\"text-align: right;\">\n",
              "      <th></th>\n",
              "      <th></th>\n",
              "      <th>count</th>\n",
              "    </tr>\n",
              "    <tr>\n",
              "      <th>petal_width_qcut</th>\n",
              "      <th>target</th>\n",
              "      <th></th>\n",
              "    </tr>\n",
              "  </thead>\n",
              "  <tbody>\n",
              "    <tr>\n",
              "      <th rowspan=\"3\" valign=\"top\">(0.099, 0.2]</th>\n",
              "      <th>0</th>\n",
              "      <td>34</td>\n",
              "    </tr>\n",
              "    <tr>\n",
              "      <th>1</th>\n",
              "      <td>0</td>\n",
              "    </tr>\n",
              "    <tr>\n",
              "      <th>2</th>\n",
              "      <td>0</td>\n",
              "    </tr>\n",
              "    <tr>\n",
              "      <th rowspan=\"3\" valign=\"top\">(0.2, 0.211]</th>\n",
              "      <th>0</th>\n",
              "      <td>0</td>\n",
              "    </tr>\n",
              "    <tr>\n",
              "      <th>1</th>\n",
              "      <td>0</td>\n",
              "    </tr>\n",
              "    <tr>\n",
              "      <th>2</th>\n",
              "      <td>0</td>\n",
              "    </tr>\n",
              "    <tr>\n",
              "      <th rowspan=\"3\" valign=\"top\">(0.211, 0.867]</th>\n",
              "      <th>0</th>\n",
              "      <td>16</td>\n",
              "    </tr>\n",
              "    <tr>\n",
              "      <th>1</th>\n",
              "      <td>0</td>\n",
              "    </tr>\n",
              "    <tr>\n",
              "      <th>2</th>\n",
              "      <td>0</td>\n",
              "    </tr>\n",
              "    <tr>\n",
              "      <th rowspan=\"3\" valign=\"top\">(0.867, 1.3]</th>\n",
              "      <th>1</th>\n",
              "      <td>28</td>\n",
              "    </tr>\n",
              "    <tr>\n",
              "      <th>0</th>\n",
              "      <td>0</td>\n",
              "    </tr>\n",
              "    <tr>\n",
              "      <th>2</th>\n",
              "      <td>0</td>\n",
              "    </tr>\n",
              "    <tr>\n",
              "      <th rowspan=\"3\" valign=\"top\">(1.3, 1.4]</th>\n",
              "      <th>1</th>\n",
              "      <td>7</td>\n",
              "    </tr>\n",
              "    <tr>\n",
              "      <th>2</th>\n",
              "      <td>1</td>\n",
              "    </tr>\n",
              "    <tr>\n",
              "      <th>0</th>\n",
              "      <td>0</td>\n",
              "    </tr>\n",
              "    <tr>\n",
              "      <th rowspan=\"3\" valign=\"top\">(1.4, 1.6]</th>\n",
              "      <th>1</th>\n",
              "      <td>13</td>\n",
              "    </tr>\n",
              "    <tr>\n",
              "      <th>2</th>\n",
              "      <td>3</td>\n",
              "    </tr>\n",
              "    <tr>\n",
              "      <th>0</th>\n",
              "      <td>0</td>\n",
              "    </tr>\n",
              "    <tr>\n",
              "      <th rowspan=\"3\" valign=\"top\">(1.6, 1.889]</th>\n",
              "      <th>2</th>\n",
              "      <td>12</td>\n",
              "    </tr>\n",
              "    <tr>\n",
              "      <th>1</th>\n",
              "      <td>2</td>\n",
              "    </tr>\n",
              "    <tr>\n",
              "      <th>0</th>\n",
              "      <td>0</td>\n",
              "    </tr>\n",
              "    <tr>\n",
              "      <th rowspan=\"3\" valign=\"top\">(1.889, 2.144]</th>\n",
              "      <th>2</th>\n",
              "      <td>17</td>\n",
              "    </tr>\n",
              "    <tr>\n",
              "      <th>0</th>\n",
              "      <td>0</td>\n",
              "    </tr>\n",
              "    <tr>\n",
              "      <th>1</th>\n",
              "      <td>0</td>\n",
              "    </tr>\n",
              "    <tr>\n",
              "      <th rowspan=\"3\" valign=\"top\">(2.144, 2.5]</th>\n",
              "      <th>2</th>\n",
              "      <td>17</td>\n",
              "    </tr>\n",
              "    <tr>\n",
              "      <th>0</th>\n",
              "      <td>0</td>\n",
              "    </tr>\n",
              "    <tr>\n",
              "      <th>1</th>\n",
              "      <td>0</td>\n",
              "    </tr>\n",
              "  </tbody>\n",
              "</table>\n",
              "</div><br><label><b>dtype:</b> int64</label>"
            ]
          },
          "metadata": {},
          "execution_count": 310
        }
      ]
    },
    {
      "cell_type": "code",
      "source": [
        "df['petal_width_qcut'] = df['petal_width_qcut'].astype(str)"
      ],
      "metadata": {
        "id": "FvfAJRyz41xJ"
      },
      "execution_count": 311,
      "outputs": []
    },
    {
      "cell_type": "code",
      "source": [
        "# Mapping the percentages\n",
        "percentage_mapping = {\n",
        "    '(0.099, 0.2]': 99.9,\n",
        "    '(0.2, 0.211]': 0,\n",
        "    '(0.211, 0.867]': 99.9,\n",
        "    '(0.867, 1.3]': 99.9,\n",
        "    '(1.3, 1.4]': 87.5,\n",
        "    '(1.4, 1.6]': 81.25,\n",
        "    '(1.6, 1.889]': 85.7,\n",
        "    '(1.889, 2.144]': 99.9,\n",
        "    '(2.144, 2.5]': 99.9\n",
        "}"
      ],
      "metadata": {
        "id": "GR2-uKYQnnK-"
      },
      "execution_count": 312,
      "outputs": []
    },
    {
      "cell_type": "code",
      "source": [
        "df['petal_width_prob'] = df['petal_width_qcut'].map(percentage_mapping)"
      ],
      "metadata": {
        "id": "dkzu6EiVnogP"
      },
      "execution_count": 313,
      "outputs": []
    },
    {
      "cell_type": "code",
      "source": [
        "\n",
        "# Performing the mapping based on the string values of the bin categories\n",
        "df.loc[df['petal_width_qcut'] == '(0.099, 0.2]', 'petal_width_qcut'] = 0 # 100%\n",
        "df.loc[(df['petal_width_qcut'] == '(0.2, 0.211]'), 'petal_width_qcut'] = 1 # The bin is originally empty\n",
        "df.loc[(df['petal_width_qcut'] == '(0.211, 0.867]'), 'petal_width_qcut'] = 0  # 100%\n",
        "df.loc[(df['petal_width_qcut'] == '(0.867, 1.3]'), 'petal_width_qcut'] = 1  # 100%\n",
        "df.loc[(df['petal_width_qcut'] == '(1.3, 1.4]'), 'petal_width_qcut'] = 1\n",
        "df.loc[(df['petal_width_qcut'] == '(1.4, 1.6]'), 'petal_width_qcut'] = 1\n",
        "df.loc[(df['petal_width_qcut'] == '(1.6, 1.889]'), 'petal_width_qcut'] = 2\n",
        "df.loc[(df['petal_width_qcut'] == '(1.889, 2.144]'), 'petal_width_qcut'] = 2  # 100%\n",
        "df.loc[df['petal_width_qcut'] == '(2.144, 2.5]', 'petal_width_qcut'] = 2  # 100%"
      ],
      "metadata": {
        "id": "9lxKWRlIkHkE"
      },
      "execution_count": 314,
      "outputs": []
    },
    {
      "cell_type": "code",
      "source": [
        "df['petal_width_qcut'] = df['petal_width_qcut'].fillna(-1).astype(int)"
      ],
      "metadata": {
        "colab": {
          "base_uri": "https://localhost:8080/"
        },
        "id": "WdpcMfbGnRu7",
        "outputId": "c652df27-c14f-4a91-f91e-c788cbe22eee"
      },
      "execution_count": 315,
      "outputs": [
        {
          "output_type": "stream",
          "name": "stderr",
          "text": [
            "<ipython-input-315-bc758a81be98>:1: FutureWarning: Downcasting object dtype arrays on .fillna, .ffill, .bfill is deprecated and will change in a future version. Call result.infer_objects(copy=False) instead. To opt-in to the future behavior, set `pd.set_option('future.no_silent_downcasting', True)`\n",
            "  df['petal_width_qcut'] = df['petal_width_qcut'].fillna(-1).astype(int)\n"
          ]
        }
      ]
    },
    {
      "cell_type": "code",
      "source": [
        "df.columns"
      ],
      "metadata": {
        "colab": {
          "base_uri": "https://localhost:8080/"
        },
        "id": "AH_HHjOxm3Ju",
        "outputId": "f4591fae-f693-4139-f1c8-ef2b84879de5"
      },
      "execution_count": 316,
      "outputs": [
        {
          "output_type": "execute_result",
          "data": {
            "text/plain": [
              "Index(['sepal length (cm)', 'sepal width (cm)', 'petal length (cm)',\n",
              "       'petal width (cm)', 'target', 'petal_length_qcut', 'petal_length_prob',\n",
              "       'sepal_width_qcut', 'sepal_width_prob', 'sepal_length_qcut',\n",
              "       'sepal_length_prob', 'petal_width_qcut', 'petal_width_prob'],\n",
              "      dtype='object')"
            ]
          },
          "metadata": {},
          "execution_count": 316
        }
      ]
    },
    {
      "cell_type": "code",
      "source": [
        "# df = df.drop(columns=['sepal_width_qcut', 'sepal_length_qcut','petal_length_prob','petal_width_prob'])"
      ],
      "metadata": {
        "id": "ABHQVDjGm6Fb"
      },
      "execution_count": 317,
      "outputs": []
    },
    {
      "cell_type": "code",
      "source": [
        "# Split data into training and testing sets\n",
        "X = df.drop(columns=['target'])\n",
        "y = df['target']\n",
        "X_train, X_test, y_train, y_test = train_test_split(X, y, test_size=0.2, random_state=42, stratify=y)\n",
        "\n",
        "# Initialize and train Random Forest model\n",
        "rf_model = RandomForestClassifier(\n",
        "    n_estimators=100,\n",
        "    max_depth=8,            # Reduce tree depth\n",
        "    min_samples_split=5,    # Require more samples to split a node\n",
        "    min_samples_leaf=3,     # Require more samples per leaf\n",
        "    max_features='sqrt',    # Use fewer features per tree\n",
        "    random_state=42\n",
        ")\n",
        "rf_model.fit(X_train, y_train)\n",
        "\n",
        "# Predict on test data\n",
        "y_pred = rf_model.predict(X_test)\n",
        "\n",
        "# Evaluate the model\n",
        "accuracy = accuracy_score(y_test, y_pred)\n",
        "print(f\"Accuracy: {accuracy:.4f}\\n\")\n",
        "print(\"Classification Report:\\n\", classification_report(y_test, y_pred))\n",
        "\n",
        "# Confusion matrix\n",
        "conf_matrix = confusion_matrix(y_test, y_pred)\n",
        "plt.figure(figsize=(5, 4))\n",
        "sns.heatmap(conf_matrix, annot=True, cmap='Blues', fmt='d', xticklabels=iris.target_names, yticklabels=iris.target_names)\n",
        "plt.xlabel('Predicted')\n",
        "plt.ylabel('Actual')\n",
        "plt.title('Confusion Matrix')\n",
        "plt.show()\n",
        "\n",
        "### **Cross-validation to check for overfitting**\n",
        "cv_scores = cross_val_score(rf_model, X_train, y_train, cv=5)\n",
        "print(f\"Cross-Validation Accuracy (Random Forest): {cv_scores.mean():.4f} ± {cv_scores.std():.4f}\")"
      ],
      "metadata": {
        "colab": {
          "base_uri": "https://localhost:8080/",
          "height": 664
        },
        "id": "uiehtxAVnFno",
        "outputId": "1a572684-d06b-4229-c02c-f60aa9b95375"
      },
      "execution_count": 318,
      "outputs": [
        {
          "output_type": "stream",
          "name": "stdout",
          "text": [
            "Accuracy: 0.9667\n",
            "\n",
            "Classification Report:\n",
            "               precision    recall  f1-score   support\n",
            "\n",
            "           0       1.00      1.00      1.00        10\n",
            "           1       1.00      0.90      0.95        10\n",
            "           2       0.91      1.00      0.95        10\n",
            "\n",
            "    accuracy                           0.97        30\n",
            "   macro avg       0.97      0.97      0.97        30\n",
            "weighted avg       0.97      0.97      0.97        30\n",
            "\n"
          ]
        },
        {
          "output_type": "display_data",
          "data": {
            "text/plain": [
              "<Figure size 500x400 with 2 Axes>"
            ],
            "image/png": "[encoded data removed]"
          },
          "metadata": {}
        },
        {
          "output_type": "stream",
          "name": "stdout",
          "text": [
            "Cross-Validation Accuracy (Random Forest): 0.9583 ± 0.0000\n"
          ]
        }
      ]
    },
    {
      "cell_type": "code",
      "source": [
        "# Learning Curves to check for overfitting\n",
        "train_sizes, train_scores, test_scores = learning_curve(rf_model, X_train, y_train, cv=5, scoring='accuracy', n_jobs=-1, train_sizes=np.linspace(0.1, 1.0, 10))\n",
        "\n",
        "# Plot learning curves\n",
        "plt.figure(figsize=(10, 6))\n",
        "plt.plot(train_sizes, np.mean(train_scores, axis=1), label=\"Training score\", color=\"blue\", linestyle='--')\n",
        "plt.plot(train_sizes, np.mean(test_scores, axis=1), label=\"Cross-validation score\", color=\"green\", linestyle='-')\n",
        "plt.title(\"Learning Curves (Random Forest)\")\n",
        "plt.xlabel(\"Training Set Size\")\n",
        "plt.ylabel(\"Accuracy\")\n",
        "plt.legend(loc=\"best\")\n",
        "plt.grid(True)\n",
        "plt.show()\n"
      ],
      "metadata": {
        "colab": {
          "base_uri": "https://localhost:8080/",
          "height": 564
        },
        "id": "jdX3xrUAqLNB",
        "outputId": "04e4dad6-078c-4f2a-85d1-3c9639a771c8"
      },
      "execution_count": 320,
      "outputs": [
        {
          "output_type": "display_data",
          "data": {
            "text/plain": [
              "<Figure size 1000x600 with 1 Axes>"
            ],
            "image/png": "[encoded data removed]"
          },
          "metadata": {}
        }
      ]
    },
    {
      "cell_type": "code",
      "source": [
        "# Compute learning curve scores\n",
        "train_sizes, train_scores, test_scores = learning_curve(rf_model, X_train, y_train, cv=5, scoring='accuracy', n_jobs=-1, train_sizes=np.linspace(0.1, 1.0, 10))\n",
        "\n",
        "# Compute mean training and validation scores\n",
        "mean_train_scores = np.mean(train_scores, axis=1)\n",
        "mean_test_scores = np.mean(test_scores, axis=1)\n",
        "\n",
        "# Compute generalization gap\n",
        "generalization_gap = mean_train_scores - mean_test_scores\n",
        "\n",
        "# Print results\n",
        "for size, train, test, gap in zip(train_sizes, mean_train_scores, mean_test_scores, generalization_gap):\n",
        "    print(f\"Training Size: {size}, Train Score: {train:.4f}, Test Score: {test:.4f}, Generalization Gap: {gap:.4f}\")"
      ],
      "metadata": {
        "id": "hyTyqcEgsWWl",
        "colab": {
          "base_uri": "https://localhost:8080/"
        },
        "outputId": "b04ac1e9-a42a-462b-c894-64a1a7e2ae86"
      },
      "execution_count": 321,
      "outputs": [
        {
          "output_type": "stream",
          "name": "stdout",
          "text": [
            "Training Size: 9, Train Score: 0.7778, Test Score: 0.5583, Generalization Gap: 0.2194\n",
            "Training Size: 19, Train Score: 1.0000, Test Score: 0.9333, Generalization Gap: 0.0667\n",
            "Training Size: 28, Train Score: 0.9929, Test Score: 0.9667, Generalization Gap: 0.0262\n",
            "Training Size: 38, Train Score: 0.9947, Test Score: 0.9583, Generalization Gap: 0.0364\n",
            "Training Size: 48, Train Score: 0.9875, Test Score: 0.9500, Generalization Gap: 0.0375\n",
            "Training Size: 57, Train Score: 0.9825, Test Score: 0.9583, Generalization Gap: 0.0241\n",
            "Training Size: 67, Train Score: 0.9791, Test Score: 0.9750, Generalization Gap: 0.0041\n",
            "Training Size: 76, Train Score: 0.9816, Test Score: 0.9583, Generalization Gap: 0.0232\n",
            "Training Size: 86, Train Score: 0.9860, Test Score: 0.9583, Generalization Gap: 0.0277\n",
            "Training Size: 96, Train Score: 0.9854, Test Score: 0.9583, Generalization Gap: 0.0271\n"
          ]
        }
      ]
    },
    {
      "cell_type": "code",
      "source": [],
      "metadata": {
        "id": "IBvHNmi4bRxC"
      },
      "execution_count": 321,
      "outputs": []
    }
  ]
}